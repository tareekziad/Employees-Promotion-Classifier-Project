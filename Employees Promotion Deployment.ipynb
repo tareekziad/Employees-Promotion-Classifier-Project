{
 "cells": [
  {
   "cell_type": "code",
   "execution_count": 1,
   "id": "61f9b3b8",
   "metadata": {},
   "outputs": [],
   "source": [
    "import streamlit as st "
   ]
  },
  {
   "cell_type": "code",
   "execution_count": 31,
   "id": "64d23dcb",
   "metadata": {},
   "outputs": [
    {
     "name": "stdout",
     "output_type": "stream",
     "text": [
      "Overwriting EmployeesDeployment.py\n"
     ]
    }
   ],
   "source": [
    "%%writefile EmployeesDeployment.py\n",
    "import pandas as pd \n",
    "import warnings\n",
    "import streamlit as st\n",
    "import joblib\n",
    "from sklearn.preprocessing import FunctionTransformer\n",
    "import sklearn\n",
    "\n",
    "\n",
    "def preprocessing (x):\n",
    "    x['NO_Trainings_LstYear'] = x['NO_Trainings_LstYear'].apply(lambda c : '1' if c == 1 else '>1')\n",
    "    EDU_Mapper = joblib.load('EDU_Mapper.h5')\n",
    "    x['Education Level'] = x['Education Level'].map(EDU_Mapper)\n",
    "    return x \n",
    "\n",
    "\n",
    "Model = joblib.load('XGB.h5')\n",
    "Model.steps.insert(0 , ('preprocessing' , FunctionTransformer(preprocessing)))\n",
    "\n",
    "def Predict(Department, Region_Employment, Education_Level,\n",
    "       Gender, Recruitment_Channel, NO_Trainings_LstYear, Age,\n",
    "       previous_year_rating, Service_Length, Awards,\n",
    "       Avg_Training_Score):\n",
    "    test = pd.DataFrame(columns=['Department', 'Region_Employment', 'Education Level',\n",
    "       'Gender', 'Recruitment Channel', 'NO_Trainings_LstYear', 'Age',\n",
    "       'previous_year_rating', 'Service Length', 'Awards',\n",
    "       'Avg_Training_Score'])\n",
    "    \n",
    "    test.at[0,['Department']] = Department\n",
    "    test.at[0,['Region_Employment']] = Region_Employment\n",
    "    test.at[0,['Education Level']] = Education_Level\n",
    "    test.at[0,['Gender']] = Gender\n",
    "    test.at[0,['Recruitment Channel']] = Recruitment_Channel\n",
    "    test.at[0,['NO_Trainings_LstYear']] = NO_Trainings_LstYear\n",
    "    test.at[0,['Age']] = Age\n",
    "    test.at[0,['previous_year_rating']] = previous_year_rating\n",
    "    test.at[0,['Service Length']] = Service_Length\n",
    "    test.at[0,['Awards']] = Awards\n",
    "    test.at[0,['Avg_Training_Score']] = Avg_Training_Score\n",
    "        \n",
    "    return Model.predict(test)[0]\n",
    "\n",
    "\n",
    "def main():\n",
    "    st.header('Employees Promotion Classifier App'.capitalize())\n",
    "    \n",
    "    Department = st.selectbox('what is your Department'.title() ,['Sales & Marketing', 'Operations', 'Technology',\n",
    "                                                                  'Analytics','R&D', 'Procurement', 'Finance', 'HR',\n",
    "                                                                  'Legal'] )\n",
    "    \n",
    "    \n",
    "    NO_Trainings_LstYear = st.slider('Number of trainings last year'.title() ,\n",
    "                                     min_value = 1 , max_value=10 , value=2 , step=1)\n",
    "    \n",
    "    \n",
    "    Region_Employment = st.selectbox('what is your Region Employment'.title() ,\n",
    "                                    ['region_7', 'region_22', 'region_19', 'region_23', 'region_26',\n",
    "       'region_2', 'region_20', 'region_34', 'region_1', 'region_4',\n",
    "       'region_29', 'region_31', 'region_15', 'region_14', 'region_11',\n",
    "       'region_5', 'region_28', 'region_17', 'region_13', 'region_16',\n",
    "       'region_25', 'region_10', 'region_27', 'region_30', 'region_12',\n",
    "       'region_21', 'region_8', 'region_32', 'region_6', 'region_33',\n",
    "       'region_24', 'region_3', 'region_9', 'region_18'])\n",
    "    \n",
    "    \n",
    "    Education_Level = st.selectbox('what is your Education Level'.title() ,\n",
    "                                   [\"Master's & above\", \"Bachelor's\",'Below Secondary'])\n",
    "    \n",
    "    \n",
    "    Gender = st.selectbox('what is your Gender'.title() , ['f', 'm'])\n",
    "    \n",
    "    \n",
    "    Recruitment_Channel = st.selectbox('what is your Recruitment Channel'.title() \n",
    "                                       , ['sourcing', 'other','referred'])\n",
    "    \n",
    "    \n",
    "    Avg_Training_Score = st.slider('what is your Avgerage Training Score'.title()\n",
    "                                   ,min_value = 39.0 , max_value=99.0 , value=60.0 , step=0.5)\n",
    "    \n",
    "    \n",
    "    Age = st.slider('what is your age'.title() ,min_value = 16.0 , max_value=60.0 , value=20.0 , step=1.0)\n",
    "    \n",
    "    \n",
    "    previous_year_rating = st.slider('what is your previous year rating'.title() ,min_value = 1 , max_value=5 , \n",
    "                                     value=3 , step=1 )\n",
    "    \n",
    "    Service_Length = st.slider('what is your Service Length'.title()\n",
    "                               ,min_value = 1 , max_value=37 , value=20 , step=1)\n",
    "    \n",
    "    \n",
    "    Awards = st.selectbox('are you have any Awards'.title() ,['NO', 'YES'])\n",
    "    \n",
    "    if st.button('predict'.title()):\n",
    "        ans = Predict(Department, Region_Employment, Education_Level,\n",
    "       Gender, Recruitment_Channel, NO_Trainings_LstYear, Age,\n",
    "       previous_year_rating, Service_Length, Awards,\n",
    "       Avg_Training_Score)\n",
    "        st.write(ans)\n",
    "main()"
   ]
  },
  {
   "cell_type": "code",
   "execution_count": 32,
   "id": "52641fd4",
   "metadata": {},
   "outputs": [
    {
     "name": "stdout",
     "output_type": "stream",
     "text": [
      "^C\n"
     ]
    }
   ],
   "source": [
    "!streamlit run EmployeesDeployment.py"
   ]
  },
  {
   "cell_type": "code",
   "execution_count": null,
   "id": "31a7bd14",
   "metadata": {},
   "outputs": [],
   "source": []
  }
 ],
 "metadata": {
  "kernelspec": {
   "display_name": "Python 3 (ipykernel)",
   "language": "python",
   "name": "python3"
  },
  "language_info": {
   "codemirror_mode": {
    "name": "ipython",
    "version": 3
   },
   "file_extension": ".py",
   "mimetype": "text/x-python",
   "name": "python",
   "nbconvert_exporter": "python",
   "pygments_lexer": "ipython3",
   "version": "3.10.4"
  }
 },
 "nbformat": 4,
 "nbformat_minor": 5
}
