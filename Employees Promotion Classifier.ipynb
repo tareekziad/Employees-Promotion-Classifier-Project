{
 "cells": [
  {
   "cell_type": "code",
   "execution_count": 1,
   "id": "b3035bf3",
   "metadata": {},
   "outputs": [],
   "source": [
    "import pandas as pd \n",
    "import numpy as np \n",
    "import seaborn as sns\n",
    "import matplotlib.pyplot as plt \n",
    "import warnings"
   ]
  },
  {
   "cell_type": "code",
   "execution_count": 2,
   "id": "72e73c20",
   "metadata": {},
   "outputs": [],
   "source": [
    "from sklearn.preprocessing import LabelEncoder , OneHotEncoder , StandardScaler , RobustScaler , MinMaxScaler , PolynomialFeatures\n",
    "from sklearn.pipeline import Pipeline , make_pipeline\n",
    "from datasist.structdata import detect_outliers\n",
    "from sklearn.impute import SimpleImputer , KNNImputer\n",
    "from category_encoders import BinaryEncoder\n",
    "from imblearn.combine import SMOTETomek\n",
    "from imblearn.under_sampling import TomekLinks\n",
    "from imblearn.over_sampling import SMOTE\n",
    "from sklearn.linear_model import LogisticRegression\n",
    "from sklearn.linear_model import PassiveAggressiveClassifier\n",
    "from sklearn.naive_bayes import GaussianNB , MultinomialNB\n",
    "from sklearn.neighbors import KNeighborsClassifier\n",
    "from sklearn.svm import SVC\n",
    "from sklearn.tree import DecisionTreeClassifier\n",
    "from sklearn.ensemble import RandomForestClassifier , VotingClassifier , BaggingClassifier ,GradientBoostingClassifier,AdaBoostClassifier\n",
    "from xgboost import XGBClassifier \n",
    "from sklearn.neural_network import MLPClassifier\n",
    "from sklearn.metrics import accuracy_score , recall_score , precision_score , f1_score , plot_confusion_matrix , plot_roc_curve,fbeta_score\n",
    "from sklearn.model_selection import cross_validate , train_test_split , GridSearchCV , StratifiedKFold , RandomizedSearchCV\n",
    "from sklearn.feature_selection import SequentialFeatureSelector , SelectFromModel\n",
    "from sklearn.compose import ColumnTransformer\n",
    "from lazypredict.Supervised import LazyClassifier\n",
    "from sklearn.preprocessing import FunctionTransformer\n",
    "from imblearn.pipeline import make_pipeline , pipeline\n",
    "import joblib\n",
    "from imblearn.under_sampling import RandomUnderSampler\n",
    "from tqdm import tqdm"
   ]
  },
  {
   "cell_type": "code",
   "execution_count": 3,
   "id": "3f2b7101",
   "metadata": {},
   "outputs": [],
   "source": [
    "%matplotlib inline\n",
    "sns.set_theme(context = 'paper' , style = 'whitegrid' ,\n",
    "              palette = 'hsv' , rc = {'figure.figsize' : (10 , 4)}) "
   ]
  },
  {
   "cell_type": "code",
   "execution_count": 34,
   "id": "4a3eea13",
   "metadata": {},
   "outputs": [
    {
     "data": {
      "text/html": [
       "<div>\n",
       "<style scoped>\n",
       "    .dataframe tbody tr th:only-of-type {\n",
       "        vertical-align: middle;\n",
       "    }\n",
       "\n",
       "    .dataframe tbody tr th {\n",
       "        vertical-align: top;\n",
       "    }\n",
       "\n",
       "    .dataframe thead th {\n",
       "        text-align: right;\n",
       "    }\n",
       "</style>\n",
       "<table border=\"1\" class=\"dataframe\">\n",
       "  <thead>\n",
       "    <tr style=\"text-align: right;\">\n",
       "      <th></th>\n",
       "      <th>EmployeeID</th>\n",
       "      <th>Department</th>\n",
       "      <th>Region_Employment</th>\n",
       "      <th>Education Level</th>\n",
       "      <th>Gender</th>\n",
       "      <th>Recruitment Channel</th>\n",
       "      <th>NO_Trainings_LstYear</th>\n",
       "      <th>Age</th>\n",
       "      <th>previous_year_rating</th>\n",
       "      <th>Service Length</th>\n",
       "      <th>Awards</th>\n",
       "      <th>Avg_Training_Score</th>\n",
       "      <th>Is Promoted</th>\n",
       "    </tr>\n",
       "  </thead>\n",
       "  <tbody>\n",
       "    <tr>\n",
       "      <th>0</th>\n",
       "      <td>65438</td>\n",
       "      <td>Sales &amp; Marketing</td>\n",
       "      <td>region_7</td>\n",
       "      <td>Master's &amp; above</td>\n",
       "      <td>f</td>\n",
       "      <td>sourcing</td>\n",
       "      <td>1</td>\n",
       "      <td>35.00</td>\n",
       "      <td>5.00</td>\n",
       "      <td>8</td>\n",
       "      <td>NO</td>\n",
       "      <td>49.00</td>\n",
       "      <td>NO</td>\n",
       "    </tr>\n",
       "    <tr>\n",
       "      <th>1</th>\n",
       "      <td>65141</td>\n",
       "      <td>Operations</td>\n",
       "      <td>region_22</td>\n",
       "      <td>Bachelor's</td>\n",
       "      <td>m</td>\n",
       "      <td>other</td>\n",
       "      <td>1</td>\n",
       "      <td>30.00</td>\n",
       "      <td>5.00</td>\n",
       "      <td>4</td>\n",
       "      <td>NO</td>\n",
       "      <td>60.00</td>\n",
       "      <td>NO</td>\n",
       "    </tr>\n",
       "    <tr>\n",
       "      <th>2</th>\n",
       "      <td>7513</td>\n",
       "      <td>Sales &amp; Marketing</td>\n",
       "      <td>region_19</td>\n",
       "      <td>Bachelor's</td>\n",
       "      <td>m</td>\n",
       "      <td>sourcing</td>\n",
       "      <td>1</td>\n",
       "      <td>34.00</td>\n",
       "      <td>3.00</td>\n",
       "      <td>7</td>\n",
       "      <td>NO</td>\n",
       "      <td>50.00</td>\n",
       "      <td>NO</td>\n",
       "    </tr>\n",
       "    <tr>\n",
       "      <th>3</th>\n",
       "      <td>2542</td>\n",
       "      <td>Sales &amp; Marketing</td>\n",
       "      <td>region_23</td>\n",
       "      <td>Bachelor's</td>\n",
       "      <td>m</td>\n",
       "      <td>other</td>\n",
       "      <td>2</td>\n",
       "      <td>39.00</td>\n",
       "      <td>1.00</td>\n",
       "      <td>10</td>\n",
       "      <td>NO</td>\n",
       "      <td>50.00</td>\n",
       "      <td>NO</td>\n",
       "    </tr>\n",
       "    <tr>\n",
       "      <th>4</th>\n",
       "      <td>48945</td>\n",
       "      <td>Technology</td>\n",
       "      <td>region_26</td>\n",
       "      <td>Bachelor's</td>\n",
       "      <td>m</td>\n",
       "      <td>other</td>\n",
       "      <td>1</td>\n",
       "      <td>45.00</td>\n",
       "      <td>3.00</td>\n",
       "      <td>2</td>\n",
       "      <td>NO</td>\n",
       "      <td>73.00</td>\n",
       "      <td>NO</td>\n",
       "    </tr>\n",
       "  </tbody>\n",
       "</table>\n",
       "</div>"
      ],
      "text/plain": [
       "   EmployeeID         Department Region_Employment   Education Level Gender  \\\n",
       "0       65438  Sales & Marketing          region_7  Master's & above      f   \n",
       "1       65141         Operations         region_22        Bachelor's      m   \n",
       "2        7513  Sales & Marketing         region_19        Bachelor's      m   \n",
       "3        2542  Sales & Marketing         region_23        Bachelor's      m   \n",
       "4       48945         Technology         region_26        Bachelor's      m   \n",
       "\n",
       "  Recruitment Channel  NO_Trainings_LstYear   Age  previous_year_rating  \\\n",
       "0            sourcing                     1 35.00                  5.00   \n",
       "1               other                     1 30.00                  5.00   \n",
       "2            sourcing                     1 34.00                  3.00   \n",
       "3               other                     2 39.00                  1.00   \n",
       "4               other                     1 45.00                  3.00   \n",
       "\n",
       "   Service Length Awards  Avg_Training_Score Is Promoted  \n",
       "0               8     NO               49.00          NO  \n",
       "1               4     NO               60.00          NO  \n",
       "2               7     NO               50.00          NO  \n",
       "3              10     NO               50.00          NO  \n",
       "4               2     NO               73.00          NO  "
      ]
     },
     "execution_count": 34,
     "metadata": {},
     "output_type": "execute_result"
    }
   ],
   "source": [
    "df = pd.read_csv('Employees Promotion V1.csv')\n",
    "df.head()"
   ]
  },
  {
   "cell_type": "code",
   "execution_count": 35,
   "id": "b0428070",
   "metadata": {},
   "outputs": [],
   "source": [
    "df.drop(['EmployeeID'] , axis = 1 , inplace = True )"
   ]
  },
  {
   "cell_type": "code",
   "execution_count": 36,
   "id": "5c5ec466",
   "metadata": {},
   "outputs": [
    {
     "name": "stdout",
     "output_type": "stream",
     "text": [
      "<class 'pandas.core.frame.DataFrame'>\n",
      "RangeIndex: 54808 entries, 0 to 54807\n",
      "Data columns (total 12 columns):\n",
      " #   Column                Non-Null Count  Dtype  \n",
      "---  ------                --------------  -----  \n",
      " 0   Department            54603 non-null  object \n",
      " 1   Region_Employment     54808 non-null  object \n",
      " 2   Education Level       52399 non-null  object \n",
      " 3   Gender                54808 non-null  object \n",
      " 4   Recruitment Channel   44404 non-null  object \n",
      " 5   NO_Trainings_LstYear  54808 non-null  int64  \n",
      " 6   Age                   54268 non-null  float64\n",
      " 7   previous_year_rating  50684 non-null  float64\n",
      " 8   Service Length        54808 non-null  int64  \n",
      " 9   Awards                54808 non-null  object \n",
      " 10  Avg_Training_Score    52248 non-null  float64\n",
      " 11  Is Promoted           54808 non-null  object \n",
      "dtypes: float64(3), int64(2), object(7)\n",
      "memory usage: 5.0+ MB\n"
     ]
    }
   ],
   "source": [
    "df.info()"
   ]
  },
  {
   "cell_type": "code",
   "execution_count": 37,
   "id": "278950ac",
   "metadata": {},
   "outputs": [
    {
     "data": {
      "text/plain": [
       "Department              0.37\n",
       "Region_Employment       0.00\n",
       "Education Level         4.40\n",
       "Gender                  0.00\n",
       "Recruitment Channel    18.98\n",
       "NO_Trainings_LstYear    0.00\n",
       "Age                     0.99\n",
       "previous_year_rating    7.52\n",
       "Service Length          0.00\n",
       "Awards                  0.00\n",
       "Avg_Training_Score      4.67\n",
       "Is Promoted             0.00\n",
       "dtype: float64"
      ]
     },
     "execution_count": 37,
     "metadata": {},
     "output_type": "execute_result"
    }
   ],
   "source": [
    "df.isnull().mean()*100"
   ]
  },
  {
   "cell_type": "code",
   "execution_count": 38,
   "id": "1b7f1eed",
   "metadata": {},
   "outputs": [
    {
     "data": {
      "text/plain": [
       "157"
      ]
     },
     "execution_count": 38,
     "metadata": {},
     "output_type": "execute_result"
    }
   ],
   "source": [
    "df.duplicated().sum()"
   ]
  },
  {
   "cell_type": "code",
   "execution_count": 39,
   "id": "02772d2d",
   "metadata": {},
   "outputs": [],
   "source": [
    "df.drop_duplicates(inplace = True , ignore_index = True)"
   ]
  },
  {
   "cell_type": "code",
   "execution_count": 40,
   "id": "81264fbc",
   "metadata": {},
   "outputs": [
    {
     "data": {
      "text/plain": [
       "NO     49985\n",
       "YES     4666\n",
       "Name: Is Promoted, dtype: int64"
      ]
     },
     "execution_count": 40,
     "metadata": {},
     "output_type": "execute_result"
    }
   ],
   "source": [
    "df['Is Promoted'].value_counts()"
   ]
  },
  {
   "cell_type": "code",
   "execution_count": 41,
   "id": "23933fc7",
   "metadata": {},
   "outputs": [
    {
     "data": {
      "text/plain": [
       "Department              0.41\n",
       "Region_Employment       0.00\n",
       "Education Level         2.59\n",
       "Gender                  0.00\n",
       "Recruitment Channel    19.20\n",
       "NO_Trainings_LstYear    0.00\n",
       "Age                     0.88\n",
       "previous_year_rating    7.24\n",
       "Service Length          0.00\n",
       "Awards                  0.00\n",
       "Avg_Training_Score      3.77\n",
       "Is Promoted             0.00\n",
       "dtype: float64"
      ]
     },
     "execution_count": 41,
     "metadata": {},
     "output_type": "execute_result"
    }
   ],
   "source": [
    "df[df['Is Promoted'] == 'YES'].isnull().mean()*100"
   ]
  },
  {
   "cell_type": "code",
   "execution_count": 42,
   "id": "94edf677",
   "metadata": {},
   "outputs": [],
   "source": [
    "num_imputer = KNNImputer(n_neighbors=3)"
   ]
  },
  {
   "cell_type": "code",
   "execution_count": 43,
   "id": "4851f3b3",
   "metadata": {},
   "outputs": [],
   "source": [
    "df[df.select_dtypes('number').columns] = num_imputer.fit_transform(df[df.select_dtypes('number').columns])"
   ]
  },
  {
   "cell_type": "code",
   "execution_count": 44,
   "id": "3210c72d",
   "metadata": {},
   "outputs": [],
   "source": [
    "cat_imputer = SimpleImputer(strategy='most_frequent')"
   ]
  },
  {
   "cell_type": "code",
   "execution_count": 45,
   "id": "310d3fa3",
   "metadata": {},
   "outputs": [],
   "source": [
    "df[df.select_dtypes('object_').columns] = cat_imputer.fit_transform(df[df.select_dtypes('object_').columns])"
   ]
  },
  {
   "cell_type": "code",
   "execution_count": 46,
   "id": "ad1110a9",
   "metadata": {},
   "outputs": [
    {
     "data": {
      "text/plain": [
       "Department             0.00\n",
       "Region_Employment      0.00\n",
       "Education Level        0.00\n",
       "Gender                 0.00\n",
       "Recruitment Channel    0.00\n",
       "NO_Trainings_LstYear   0.00\n",
       "Age                    0.00\n",
       "previous_year_rating   0.00\n",
       "Service Length         0.00\n",
       "Awards                 0.00\n",
       "Avg_Training_Score     0.00\n",
       "Is Promoted            0.00\n",
       "dtype: float64"
      ]
     },
     "execution_count": 46,
     "metadata": {},
     "output_type": "execute_result"
    }
   ],
   "source": [
    "df.isnull().mean()*100"
   ]
  },
  {
   "cell_type": "code",
   "execution_count": 55,
   "id": "3e6a828b",
   "metadata": {},
   "outputs": [],
   "source": [
    "df['NO_Trainings_LstYear'] = df['NO_Trainings_LstYear'].apply(lambda x : '1' if x == 1 else '>1')"
   ]
  },
  {
   "cell_type": "code",
   "execution_count": 57,
   "id": "2e0ac5e3",
   "metadata": {},
   "outputs": [
    {
     "data": {
      "text/plain": [
       "array(['1', '>1'], dtype=object)"
      ]
     },
     "execution_count": 57,
     "metadata": {},
     "output_type": "execute_result"
    }
   ],
   "source": [
    "df['NO_Trainings_LstYear'].unique()"
   ]
  },
  {
   "cell_type": "code",
   "execution_count": 59,
   "id": "d138094f",
   "metadata": {},
   "outputs": [
    {
     "data": {
      "text/plain": [
       "<AxesSubplot:xlabel='Is Promoted', ylabel='count'>"
      ]
     },
     "execution_count": 59,
     "metadata": {},
     "output_type": "execute_result"
    },
    {
     "data": {
      "image/png": "[encoded data removed]",
      "text/plain": [
       "<Figure size 720x288 with 1 Axes>"
      ]
     },
     "metadata": {},
     "output_type": "display_data"
    }
   ],
   "source": [
    "sns.countplot(df['Is Promoted'])"
   ]
  },
  {
   "cell_type": "code",
   "execution_count": 60,
   "id": "fe45640f",
   "metadata": {},
   "outputs": [
    {
     "data": {
      "text/plain": [
       "'Department'"
      ]
     },
     "metadata": {},
     "output_type": "display_data"
    },
    {
     "data": {
      "text/plain": [
       "array(['Sales & Marketing', 'Operations', 'Technology', 'Analytics',\n",
       "       'R&D', 'Procurement', 'Finance', 'HR', 'Legal'], dtype=object)"
      ]
     },
     "metadata": {},
     "output_type": "display_data"
    },
    {
     "data": {
      "text/plain": [
       "'Region_Employment'"
      ]
     },
     "metadata": {},
     "output_type": "display_data"
    },
    {
     "data": {
      "text/plain": [
       "array(['region_7', 'region_22', 'region_19', 'region_23', 'region_26',\n",
       "       'region_2', 'region_20', 'region_34', 'region_1', 'region_4',\n",
       "       'region_29', 'region_31', 'region_15', 'region_14', 'region_11',\n",
       "       'region_5', 'region_28', 'region_17', 'region_13', 'region_16',\n",
       "       'region_25', 'region_10', 'region_27', 'region_30', 'region_12',\n",
       "       'region_21', 'region_8', 'region_32', 'region_6', 'region_33',\n",
       "       'region_24', 'region_3', 'region_9', 'region_18'], dtype=object)"
      ]
     },
     "metadata": {},
     "output_type": "display_data"
    },
    {
     "data": {
      "text/plain": [
       "'Education Level'"
      ]
     },
     "metadata": {},
     "output_type": "display_data"
    },
    {
     "data": {
      "text/plain": [
       "array([\"Master's & above\", \"Bachelor's\", 'Below Secondary'], dtype=object)"
      ]
     },
     "metadata": {},
     "output_type": "display_data"
    },
    {
     "data": {
      "text/plain": [
       "'Gender'"
      ]
     },
     "metadata": {},
     "output_type": "display_data"
    },
    {
     "data": {
      "text/plain": [
       "array(['f', 'm'], dtype=object)"
      ]
     },
     "metadata": {},
     "output_type": "display_data"
    },
    {
     "data": {
      "text/plain": [
       "'Recruitment Channel'"
      ]
     },
     "metadata": {},
     "output_type": "display_data"
    },
    {
     "data": {
      "text/plain": [
       "array(['sourcing', 'other', 'referred'], dtype=object)"
      ]
     },
     "metadata": {},
     "output_type": "display_data"
    },
    {
     "data": {
      "text/plain": [
       "'NO_Trainings_LstYear'"
      ]
     },
     "metadata": {},
     "output_type": "display_data"
    },
    {
     "data": {
      "text/plain": [
       "array(['1', '>1'], dtype=object)"
      ]
     },
     "metadata": {},
     "output_type": "display_data"
    },
    {
     "data": {
      "text/plain": [
       "'Awards'"
      ]
     },
     "metadata": {},
     "output_type": "display_data"
    },
    {
     "data": {
      "text/plain": [
       "array(['NO', 'YES'], dtype=object)"
      ]
     },
     "metadata": {},
     "output_type": "display_data"
    },
    {
     "data": {
      "text/plain": [
       "'Is Promoted'"
      ]
     },
     "metadata": {},
     "output_type": "display_data"
    },
    {
     "data": {
      "text/plain": [
       "array(['NO', 'YES'], dtype=object)"
      ]
     },
     "metadata": {},
     "output_type": "display_data"
    }
   ],
   "source": [
    "for col in df.select_dtypes('object_').columns:\n",
    "    display(col , df[col].unique())"
   ]
  },
  {
   "cell_type": "code",
   "execution_count": 61,
   "id": "b29ee2ae",
   "metadata": {},
   "outputs": [],
   "source": [
    "ohe_col = ['Recruitment Channel' , 'Gender' , 'NO_Trainings_LstYear' , 'Awards']\n",
    "be_col = ['Department' , 'Region_Employment']"
   ]
  },
  {
   "cell_type": "code",
   "execution_count": 62,
   "id": "06659ad3",
   "metadata": {},
   "outputs": [
    {
     "data": {
      "text/plain": [
       "array([\"Master's & above\", \"Bachelor's\", 'Below Secondary'], dtype=object)"
      ]
     },
     "execution_count": 62,
     "metadata": {},
     "output_type": "execute_result"
    }
   ],
   "source": [
    "df['Education Level'].unique()"
   ]
  },
  {
   "cell_type": "code",
   "execution_count": 64,
   "id": "89f828f5",
   "metadata": {},
   "outputs": [
    {
     "data": {
      "text/plain": [
       "['EDU_Mapper.h5']"
      ]
     },
     "execution_count": 64,
     "metadata": {},
     "output_type": "execute_result"
    }
   ],
   "source": [
    "mapper = {\"Master's & above\" : 3 , \"Bachelor's\" : 2 , 'Below Secondary' : 1}\n",
    "joblib.dump(mapper , 'EDU_Mapper.h5')"
   ]
  },
  {
   "cell_type": "code",
   "execution_count": 65,
   "id": "c7c285df",
   "metadata": {},
   "outputs": [],
   "source": [
    "df['Education Level'] = df['Education Level'].map(mapper)"
   ]
  },
  {
   "cell_type": "code",
   "execution_count": 66,
   "id": "67284237",
   "metadata": {},
   "outputs": [],
   "source": [
    "x , y = df[df.columns[:-1]] , df['Is Promoted'].apply(lambda x : 1 if x == 'YES' else 0)"
   ]
  },
  {
   "cell_type": "code",
   "execution_count": 67,
   "id": "a3d141dd",
   "metadata": {},
   "outputs": [],
   "source": [
    "rm = RandomUnderSampler()"
   ]
  },
  {
   "cell_type": "code",
   "execution_count": 68,
   "id": "0de2a498",
   "metadata": {},
   "outputs": [],
   "source": [
    "x , y = rm.fit_resample(x , y)"
   ]
  },
  {
   "cell_type": "code",
   "execution_count": 69,
   "id": "250e90a0",
   "metadata": {},
   "outputs": [
    {
     "data": {
      "text/plain": [
       "<AxesSubplot:xlabel='Is Promoted', ylabel='count'>"
      ]
     },
     "execution_count": 69,
     "metadata": {},
     "output_type": "execute_result"
    },
    {
     "data": {
      "image/png": "[encoded data removed]",
      "text/plain": [
       "<Figure size 720x288 with 1 Axes>"
      ]
     },
     "metadata": {},
     "output_type": "display_data"
    }
   ],
   "source": [
    "sns.countplot(y)"
   ]
  },
  {
   "cell_type": "code",
   "execution_count": 72,
   "id": "5e656ce4",
   "metadata": {},
   "outputs": [
    {
     "data": {
      "text/html": [
       "<style>#sk-container-id-2 {color: black;background-color: white;}#sk-container-id-2 pre{padding: 0;}#sk-container-id-2 div.sk-toggleable {background-color: white;}#sk-container-id-2 label.sk-toggleable__label {cursor: pointer;display: block;width: 100%;margin-bottom: 0;padding: 0.3em;box-sizing: border-box;text-align: center;}#sk-container-id-2 label.sk-toggleable__label-arrow:before {content: \"▸\";float: left;margin-right: 0.25em;color: #696969;}#sk-container-id-2 label.sk-toggleable__label-arrow:hover:before {color: black;}#sk-container-id-2 div.sk-estimator:hover label.sk-toggleable__label-arrow:before {color: black;}#sk-container-id-2 div.sk-toggleable__content {max-height: 0;max-width: 0;overflow: hidden;text-align: left;background-color: #f0f8ff;}#sk-container-id-2 div.sk-toggleable__content pre {margin: 0.2em;color: black;border-radius: 0.25em;background-color: #f0f8ff;}#sk-container-id-2 input.sk-toggleable__control:checked~div.sk-toggleable__content {max-height: 200px;max-width: 100%;overflow: auto;}#sk-container-id-2 input.sk-toggleable__control:checked~label.sk-toggleable__label-arrow:before {content: \"▾\";}#sk-container-id-2 div.sk-estimator input.sk-toggleable__control:checked~label.sk-toggleable__label {background-color: #d4ebff;}#sk-container-id-2 div.sk-label input.sk-toggleable__control:checked~label.sk-toggleable__label {background-color: #d4ebff;}#sk-container-id-2 input.sk-hidden--visually {border: 0;clip: rect(1px 1px 1px 1px);clip: rect(1px, 1px, 1px, 1px);height: 1px;margin: -1px;overflow: hidden;padding: 0;position: absolute;width: 1px;}#sk-container-id-2 div.sk-estimator {font-family: monospace;background-color: #f0f8ff;border: 1px dotted black;border-radius: 0.25em;box-sizing: border-box;margin-bottom: 0.5em;}#sk-container-id-2 div.sk-estimator:hover {background-color: #d4ebff;}#sk-container-id-2 div.sk-parallel-item::after {content: \"\";width: 100%;border-bottom: 1px solid gray;flex-grow: 1;}#sk-container-id-2 div.sk-label:hover label.sk-toggleable__label {background-color: #d4ebff;}#sk-container-id-2 div.sk-serial::before {content: \"\";position: absolute;border-left: 1px solid gray;box-sizing: border-box;top: 0;bottom: 0;left: 50%;z-index: 0;}#sk-container-id-2 div.sk-serial {display: flex;flex-direction: column;align-items: center;background-color: white;padding-right: 0.2em;padding-left: 0.2em;position: relative;}#sk-container-id-2 div.sk-item {position: relative;z-index: 1;}#sk-container-id-2 div.sk-parallel {display: flex;align-items: stretch;justify-content: center;background-color: white;position: relative;}#sk-container-id-2 div.sk-item::before, #sk-container-id-2 div.sk-parallel-item::before {content: \"\";position: absolute;border-left: 1px solid gray;box-sizing: border-box;top: 0;bottom: 0;left: 50%;z-index: -1;}#sk-container-id-2 div.sk-parallel-item {display: flex;flex-direction: column;z-index: 1;position: relative;background-color: white;}#sk-container-id-2 div.sk-parallel-item:first-child::after {align-self: flex-end;width: 50%;}#sk-container-id-2 div.sk-parallel-item:last-child::after {align-self: flex-start;width: 50%;}#sk-container-id-2 div.sk-parallel-item:only-child::after {width: 0;}#sk-container-id-2 div.sk-dashed-wrapped {border: 1px dashed gray;margin: 0 0.4em 0.5em 0.4em;box-sizing: border-box;padding-bottom: 0.4em;background-color: white;}#sk-container-id-2 div.sk-label label {font-family: monospace;font-weight: bold;display: inline-block;line-height: 1.2em;}#sk-container-id-2 div.sk-label-container {text-align: center;}#sk-container-id-2 div.sk-container {/* jupyter's `normalize.less` sets `[hidden] { display: none; }` but bootstrap.min.css set `[hidden] { display: none !important; }` so we also need the `!important` here to be able to override the default hidden behavior on the sphinx rendered scikit-learn.org. See: https://github.com/scikit-learn/scikit-learn/issues/21755 */display: inline-block !important;position: relative;}#sk-container-id-2 div.sk-text-repr-fallback {display: none;}</style><div id=\"sk-container-id-2\" class=\"sk-top-container\"><div class=\"sk-text-repr-fallback\"><pre>ColumnTransformer(remainder=&#x27;passthrough&#x27;,\n",
       "                  transformers=[(&#x27;ohe&#x27;,\n",
       "                                 OneHotEncoder(drop=&#x27;first&#x27;, sparse=False),\n",
       "                                 [&#x27;Recruitment Channel&#x27;, &#x27;Gender&#x27;,\n",
       "                                  &#x27;NO_Trainings_LstYear&#x27;, &#x27;Awards&#x27;]),\n",
       "                                (&#x27;be&#x27;, BinaryEncoder(),\n",
       "                                 [&#x27;Department&#x27;, &#x27;Region_Employment&#x27;])])</pre><b>In a Jupyter environment, please rerun this cell to show the HTML representation or trust the notebook. <br />On GitHub, the HTML representation is unable to render, please try loading this page with nbviewer.org.</b></div><div class=\"sk-container\" hidden><div class=\"sk-item sk-dashed-wrapped\"><div class=\"sk-label-container\"><div class=\"sk-label sk-toggleable\"><input class=\"sk-toggleable__control sk-hidden--visually\" id=\"sk-estimator-id-8\" type=\"checkbox\" ><label for=\"sk-estimator-id-8\" class=\"sk-toggleable__label sk-toggleable__label-arrow\">ColumnTransformer</label><div class=\"sk-toggleable__content\"><pre>ColumnTransformer(remainder=&#x27;passthrough&#x27;,\n",
       "                  transformers=[(&#x27;ohe&#x27;,\n",
       "                                 OneHotEncoder(drop=&#x27;first&#x27;, sparse=False),\n",
       "                                 [&#x27;Recruitment Channel&#x27;, &#x27;Gender&#x27;,\n",
       "                                  &#x27;NO_Trainings_LstYear&#x27;, &#x27;Awards&#x27;]),\n",
       "                                (&#x27;be&#x27;, BinaryEncoder(),\n",
       "                                 [&#x27;Department&#x27;, &#x27;Region_Employment&#x27;])])</pre></div></div></div><div class=\"sk-parallel\"><div class=\"sk-parallel-item\"><div class=\"sk-item\"><div class=\"sk-label-container\"><div class=\"sk-label sk-toggleable\"><input class=\"sk-toggleable__control sk-hidden--visually\" id=\"sk-estimator-id-9\" type=\"checkbox\" ><label for=\"sk-estimator-id-9\" class=\"sk-toggleable__label sk-toggleable__label-arrow\">ohe</label><div class=\"sk-toggleable__content\"><pre>[&#x27;Recruitment Channel&#x27;, &#x27;Gender&#x27;, &#x27;NO_Trainings_LstYear&#x27;, &#x27;Awards&#x27;]</pre></div></div></div><div class=\"sk-serial\"><div class=\"sk-item\"><div class=\"sk-estimator sk-toggleable\"><input class=\"sk-toggleable__control sk-hidden--visually\" id=\"sk-estimator-id-10\" type=\"checkbox\" ><label for=\"sk-estimator-id-10\" class=\"sk-toggleable__label sk-toggleable__label-arrow\">OneHotEncoder</label><div class=\"sk-toggleable__content\"><pre>OneHotEncoder(drop=&#x27;first&#x27;, sparse=False)</pre></div></div></div></div></div></div><div class=\"sk-parallel-item\"><div class=\"sk-item\"><div class=\"sk-label-container\"><div class=\"sk-label sk-toggleable\"><input class=\"sk-toggleable__control sk-hidden--visually\" id=\"sk-estimator-id-11\" type=\"checkbox\" ><label for=\"sk-estimator-id-11\" class=\"sk-toggleable__label sk-toggleable__label-arrow\">be</label><div class=\"sk-toggleable__content\"><pre>[&#x27;Department&#x27;, &#x27;Region_Employment&#x27;]</pre></div></div></div><div class=\"sk-serial\"><div class=\"sk-item\"><div class=\"sk-estimator sk-toggleable\"><input class=\"sk-toggleable__control sk-hidden--visually\" id=\"sk-estimator-id-12\" type=\"checkbox\" ><label for=\"sk-estimator-id-12\" class=\"sk-toggleable__label sk-toggleable__label-arrow\">BinaryEncoder</label><div class=\"sk-toggleable__content\"><pre>BinaryEncoder()</pre></div></div></div></div></div></div><div class=\"sk-parallel-item\"><div class=\"sk-item\"><div class=\"sk-label-container\"><div class=\"sk-label sk-toggleable\"><input class=\"sk-toggleable__control sk-hidden--visually\" id=\"sk-estimator-id-13\" type=\"checkbox\" ><label for=\"sk-estimator-id-13\" class=\"sk-toggleable__label sk-toggleable__label-arrow\">remainder</label><div class=\"sk-toggleable__content\"><pre></pre></div></div></div><div class=\"sk-serial\"><div class=\"sk-item\"><div class=\"sk-estimator sk-toggleable\"><input class=\"sk-toggleable__control sk-hidden--visually\" id=\"sk-estimator-id-14\" type=\"checkbox\" ><label for=\"sk-estimator-id-14\" class=\"sk-toggleable__label sk-toggleable__label-arrow\">passthrough</label><div class=\"sk-toggleable__content\"><pre>passthrough</pre></div></div></div></div></div></div></div></div></div></div>"
      ],
      "text/plain": [
       "ColumnTransformer(remainder='passthrough',\n",
       "                  transformers=[('ohe',\n",
       "                                 OneHotEncoder(drop='first', sparse=False),\n",
       "                                 ['Recruitment Channel', 'Gender',\n",
       "                                  'NO_Trainings_LstYear', 'Awards']),\n",
       "                                ('be', BinaryEncoder(),\n",
       "                                 ['Department', 'Region_Employment'])])"
      ]
     },
     "execution_count": 72,
     "metadata": {},
     "output_type": "execute_result"
    }
   ],
   "source": [
    "trans = ColumnTransformer(transformers=[('ohe',OneHotEncoder(sparse=False , drop = 'first'),ohe_col)\n",
    "                                        , ('be' , BinaryEncoder() , be_col)]\n",
    "                          , remainder='passthrough')\n",
    "trans"
   ]
  },
  {
   "cell_type": "code",
   "execution_count": 73,
   "id": "053184cb",
   "metadata": {},
   "outputs": [],
   "source": [
    "models = []\n",
    "models.append(('DTC' , DecisionTreeClassifier()))\n",
    "models.append(('RFC' , RandomForestClassifier()))\n",
    "models.append(('XGB' , XGBClassifier()))"
   ]
  },
  {
   "cell_type": "code",
   "execution_count": 74,
   "id": "973aabf7",
   "metadata": {},
   "outputs": [],
   "source": [
    "scoring = ['accuracy' , 'recall' , 'f1' , 'precision']"
   ]
  },
  {
   "cell_type": "code",
   "execution_count": 76,
   "id": "e15f543f",
   "metadata": {},
   "outputs": [
    {
     "name": "stdout",
     "output_type": "stream",
     "text": [
      "------------------------------------------------------------\n",
      "DTC\n",
      "Train Accuracy : 0.9995713759487306 , Test Accuracy : 0.6466999175043959\n",
      "Train Recall : 0.9991427375377165 , Test Recall : 0.6615954153096892\n",
      "Train Precision : 1.0 , Test Precision : 0.6425090754220181\n",
      "Train F1_Score : 0.9995711533534231 , Test F1_Score : 0.651881719527867\n",
      "------------------------------------------------------------\n",
      "RFC\n",
      "Train Accuracy : 0.9995713759487306 , Test Accuracy : 0.7112098723757987\n",
      "Train Recall : 0.9995713615909093 , Test Recall : 0.6680230703379075\n",
      "Train Precision : 0.9995714189529753 , Test Precision : 0.7315247060743607\n",
      "Train F1_Score : 0.9995713615736037 , Test F1_Score : 0.6981793604168924\n",
      "------------------------------------------------------------\n",
      "XGB\n",
      "Train Accuracy : 0.8772503597016454 , Test Accuracy : 0.7085304587892263\n",
      "Train Recall : 0.8462814778191323 , Test Recall : 0.6686656981347728\n",
      "Train Precision : 0.9021577663641072 , Test Precision : 0.7268216335419805\n",
      "Train F1_Score : 0.8733111250121759 , Test F1_Score : 0.6964188775387916\n"
     ]
    }
   ],
   "source": [
    "for model in models :\n",
    "    PL = make_pipeline(trans ,StandardScaler(), model[1])\n",
    "    scores = cross_validate(estimator=PL , X = x , y = y , cv = StratifiedKFold(n_splits=5) ,\n",
    "                            scoring=scoring  , return_train_score=True )\n",
    "    print('-'*60)\n",
    "    print(model[0])\n",
    "    print(f'train accuracy : {scores[\"train_accuracy\"].mean()} , test accuracy : {scores[\"test_accuracy\"].mean()}'.title())\n",
    "    print(f'train recall : {scores[\"train_recall\"].mean()} , test recall : {scores[\"test_recall\"].mean()}'.title())\n",
    "    print(f'train precision : {scores[\"train_precision\"].mean()} , test precision : {scores[\"test_precision\"].mean()}'.title())\n",
    "    print(f'train f1_score : {scores[\"train_f1\"].mean()} , test f1_score : {scores[\"test_f1\"].mean()}'.title())"
   ]
  },
  {
   "cell_type": "markdown",
   "id": "7dbe2a6e",
   "metadata": {},
   "source": [
    "# `-----------------DecisionTreeClassifier For Tunning-----------------`"
   ]
  },
  {
   "cell_type": "code",
   "execution_count": 85,
   "id": "b9d27ec5",
   "metadata": {},
   "outputs": [],
   "source": [
    "DT_params = [\n",
    "    {\n",
    "        'decisiontreeclassifier__max_depth' : [4,5,6,7,8,9,10,11,12,15],\n",
    "        'decisiontreeclassifier__min_samples_leaf' : [1,2,3,4,5,6,7,8,9,10],\n",
    "        'decisiontreeclassifier__min_samples_split': [2, 5, 10],\n",
    "        'decisiontreeclassifier__max_leaf_nodes' : [None,10,20,30,40,50,60,70,80,90] \n",
    "    }\n",
    "]"
   ]
  },
  {
   "cell_type": "code",
   "execution_count": 86,
   "id": "23582791",
   "metadata": {},
   "outputs": [],
   "source": [
    "DTC = make_pipeline(trans , DecisionTreeClassifier())"
   ]
  },
  {
   "cell_type": "code",
   "execution_count": 95,
   "id": "b6f25c28",
   "metadata": {},
   "outputs": [],
   "source": [
    "DTC_RanGrid = RandomizedSearchCV(estimator=DTC , param_distributions=DT_params ,\n",
    "                                 scoring='accuracy' , cv = StratifiedKFold(n_splits=5) ,\n",
    "                                 return_train_score=True ,verbose=1 , n_iter=10)"
   ]
  },
  {
   "cell_type": "code",
   "execution_count": 110,
   "id": "1997bf32",
   "metadata": {},
   "outputs": [
    {
     "name": "stdout",
     "output_type": "stream",
     "text": [
      "Fitting 5 folds for each of 10 candidates, totalling 50 fits\n"
     ]
    },
    {
     "data": {
      "text/html": [
       "<style>#sk-container-id-7 {color: black;background-color: white;}#sk-container-id-7 pre{padding: 0;}#sk-container-id-7 div.sk-toggleable {background-color: white;}#sk-container-id-7 label.sk-toggleable__label {cursor: pointer;display: block;width: 100%;margin-bottom: 0;padding: 0.3em;box-sizing: border-box;text-align: center;}#sk-container-id-7 label.sk-toggleable__label-arrow:before {content: \"▸\";float: left;margin-right: 0.25em;color: #696969;}#sk-container-id-7 label.sk-toggleable__label-arrow:hover:before {color: black;}#sk-container-id-7 div.sk-estimator:hover label.sk-toggleable__label-arrow:before {color: black;}#sk-container-id-7 div.sk-toggleable__content {max-height: 0;max-width: 0;overflow: hidden;text-align: left;background-color: #f0f8ff;}#sk-container-id-7 div.sk-toggleable__content pre {margin: 0.2em;color: black;border-radius: 0.25em;background-color: #f0f8ff;}#sk-container-id-7 input.sk-toggleable__control:checked~div.sk-toggleable__content {max-height: 200px;max-width: 100%;overflow: auto;}#sk-container-id-7 input.sk-toggleable__control:checked~label.sk-toggleable__label-arrow:before {content: \"▾\";}#sk-container-id-7 div.sk-estimator input.sk-toggleable__control:checked~label.sk-toggleable__label {background-color: #d4ebff;}#sk-container-id-7 div.sk-label input.sk-toggleable__control:checked~label.sk-toggleable__label {background-color: #d4ebff;}#sk-container-id-7 input.sk-hidden--visually {border: 0;clip: rect(1px 1px 1px 1px);clip: rect(1px, 1px, 1px, 1px);height: 1px;margin: -1px;overflow: hidden;padding: 0;position: absolute;width: 1px;}#sk-container-id-7 div.sk-estimator {font-family: monospace;background-color: #f0f8ff;border: 1px dotted black;border-radius: 0.25em;box-sizing: border-box;margin-bottom: 0.5em;}#sk-container-id-7 div.sk-estimator:hover {background-color: #d4ebff;}#sk-container-id-7 div.sk-parallel-item::after {content: \"\";width: 100%;border-bottom: 1px solid gray;flex-grow: 1;}#sk-container-id-7 div.sk-label:hover label.sk-toggleable__label {background-color: #d4ebff;}#sk-container-id-7 div.sk-serial::before {content: \"\";position: absolute;border-left: 1px solid gray;box-sizing: border-box;top: 0;bottom: 0;left: 50%;z-index: 0;}#sk-container-id-7 div.sk-serial {display: flex;flex-direction: column;align-items: center;background-color: white;padding-right: 0.2em;padding-left: 0.2em;position: relative;}#sk-container-id-7 div.sk-item {position: relative;z-index: 1;}#sk-container-id-7 div.sk-parallel {display: flex;align-items: stretch;justify-content: center;background-color: white;position: relative;}#sk-container-id-7 div.sk-item::before, #sk-container-id-7 div.sk-parallel-item::before {content: \"\";position: absolute;border-left: 1px solid gray;box-sizing: border-box;top: 0;bottom: 0;left: 50%;z-index: -1;}#sk-container-id-7 div.sk-parallel-item {display: flex;flex-direction: column;z-index: 1;position: relative;background-color: white;}#sk-container-id-7 div.sk-parallel-item:first-child::after {align-self: flex-end;width: 50%;}#sk-container-id-7 div.sk-parallel-item:last-child::after {align-self: flex-start;width: 50%;}#sk-container-id-7 div.sk-parallel-item:only-child::after {width: 0;}#sk-container-id-7 div.sk-dashed-wrapped {border: 1px dashed gray;margin: 0 0.4em 0.5em 0.4em;box-sizing: border-box;padding-bottom: 0.4em;background-color: white;}#sk-container-id-7 div.sk-label label {font-family: monospace;font-weight: bold;display: inline-block;line-height: 1.2em;}#sk-container-id-7 div.sk-label-container {text-align: center;}#sk-container-id-7 div.sk-container {/* jupyter's `normalize.less` sets `[hidden] { display: none; }` but bootstrap.min.css set `[hidden] { display: none !important; }` so we also need the `!important` here to be able to override the default hidden behavior on the sphinx rendered scikit-learn.org. See: https://github.com/scikit-learn/scikit-learn/issues/21755 */display: inline-block !important;position: relative;}#sk-container-id-7 div.sk-text-repr-fallback {display: none;}</style><div id=\"sk-container-id-7\" class=\"sk-top-container\"><div class=\"sk-text-repr-fallback\"><pre>RandomizedSearchCV(cv=StratifiedKFold(n_splits=5, random_state=None, shuffle=False),\n",
       "                   estimator=Pipeline(steps=[(&#x27;columntransformer&#x27;,\n",
       "                                              ColumnTransformer(remainder=&#x27;passthrough&#x27;,\n",
       "                                                                transformers=[(&#x27;ohe&#x27;,\n",
       "                                                                               OneHotEncoder(drop=&#x27;first&#x27;,\n",
       "                                                                                             sparse=False),\n",
       "                                                                               [&#x27;Recruitment &#x27;\n",
       "                                                                                &#x27;Channel&#x27;,\n",
       "                                                                                &#x27;Gender&#x27;,\n",
       "                                                                                &#x27;NO_Trainings_LstYear&#x27;,\n",
       "                                                                                &#x27;Awards&#x27;]),\n",
       "                                                                              (&#x27;be&#x27;,\n",
       "                                                                               BinaryEncoder(),\n",
       "                                                                               [&#x27;Department&#x27;,\n",
       "                                                                                &#x27;Region_Employ...\n",
       "                                              DecisionTreeClassifier())]),\n",
       "                   param_distributions=[{&#x27;decisiontreeclassifier__max_depth&#x27;: [4,\n",
       "                                                                               5,\n",
       "                                                                               6,\n",
       "                                                                               7,\n",
       "                                                                               8,\n",
       "                                                                               9,\n",
       "                                                                               10,\n",
       "                                                                               11,\n",
       "                                                                               12,\n",
       "                                                                               15],\n",
       "                                         &#x27;decisiontreeclassifier__max_leaf_nodes&#x27;: [None,\n",
       "                                                                                    10,\n",
       "                                                                                    20,\n",
       "                                                                                    30,\n",
       "                                                                                    40,\n",
       "                                                                                    50,\n",
       "                                                                                    60,\n",
       "                                                                                    70,\n",
       "                                                                                    80,\n",
       "                                                                                    90],\n",
       "                                         &#x27;decisiontreeclassifier__min_samples_leaf&#x27;: [1,\n",
       "                                                                                      2,\n",
       "                                                                                      3,\n",
       "                                                                                      4,\n",
       "                                                                                      5,\n",
       "                                                                                      6,\n",
       "                                                                                      7,\n",
       "                                                                                      8,\n",
       "                                                                                      9,\n",
       "                                                                                      10],\n",
       "                                         &#x27;decisiontreeclassifier__min_samples_split&#x27;: [2,\n",
       "                                                                                       5,\n",
       "                                                                                       10]}],\n",
       "                   return_train_score=True, scoring=&#x27;accuracy&#x27;, verbose=1)</pre><b>In a Jupyter environment, please rerun this cell to show the HTML representation or trust the notebook. <br />On GitHub, the HTML representation is unable to render, please try loading this page with nbviewer.org.</b></div><div class=\"sk-container\" hidden><div class=\"sk-item sk-dashed-wrapped\"><div class=\"sk-label-container\"><div class=\"sk-label sk-toggleable\"><input class=\"sk-toggleable__control sk-hidden--visually\" id=\"sk-estimator-id-55\" type=\"checkbox\" ><label for=\"sk-estimator-id-55\" class=\"sk-toggleable__label sk-toggleable__label-arrow\">RandomizedSearchCV</label><div class=\"sk-toggleable__content\"><pre>RandomizedSearchCV(cv=StratifiedKFold(n_splits=5, random_state=None, shuffle=False),\n",
       "                   estimator=Pipeline(steps=[(&#x27;columntransformer&#x27;,\n",
       "                                              ColumnTransformer(remainder=&#x27;passthrough&#x27;,\n",
       "                                                                transformers=[(&#x27;ohe&#x27;,\n",
       "                                                                               OneHotEncoder(drop=&#x27;first&#x27;,\n",
       "                                                                                             sparse=False),\n",
       "                                                                               [&#x27;Recruitment &#x27;\n",
       "                                                                                &#x27;Channel&#x27;,\n",
       "                                                                                &#x27;Gender&#x27;,\n",
       "                                                                                &#x27;NO_Trainings_LstYear&#x27;,\n",
       "                                                                                &#x27;Awards&#x27;]),\n",
       "                                                                              (&#x27;be&#x27;,\n",
       "                                                                               BinaryEncoder(),\n",
       "                                                                               [&#x27;Department&#x27;,\n",
       "                                                                                &#x27;Region_Employ...\n",
       "                                              DecisionTreeClassifier())]),\n",
       "                   param_distributions=[{&#x27;decisiontreeclassifier__max_depth&#x27;: [4,\n",
       "                                                                               5,\n",
       "                                                                               6,\n",
       "                                                                               7,\n",
       "                                                                               8,\n",
       "                                                                               9,\n",
       "                                                                               10,\n",
       "                                                                               11,\n",
       "                                                                               12,\n",
       "                                                                               15],\n",
       "                                         &#x27;decisiontreeclassifier__max_leaf_nodes&#x27;: [None,\n",
       "                                                                                    10,\n",
       "                                                                                    20,\n",
       "                                                                                    30,\n",
       "                                                                                    40,\n",
       "                                                                                    50,\n",
       "                                                                                    60,\n",
       "                                                                                    70,\n",
       "                                                                                    80,\n",
       "                                                                                    90],\n",
       "                                         &#x27;decisiontreeclassifier__min_samples_leaf&#x27;: [1,\n",
       "                                                                                      2,\n",
       "                                                                                      3,\n",
       "                                                                                      4,\n",
       "                                                                                      5,\n",
       "                                                                                      6,\n",
       "                                                                                      7,\n",
       "                                                                                      8,\n",
       "                                                                                      9,\n",
       "                                                                                      10],\n",
       "                                         &#x27;decisiontreeclassifier__min_samples_split&#x27;: [2,\n",
       "                                                                                       5,\n",
       "                                                                                       10]}],\n",
       "                   return_train_score=True, scoring=&#x27;accuracy&#x27;, verbose=1)</pre></div></div></div><div class=\"sk-parallel\"><div class=\"sk-parallel-item\"><div class=\"sk-item\"><div class=\"sk-label-container\"><div class=\"sk-label sk-toggleable\"><input class=\"sk-toggleable__control sk-hidden--visually\" id=\"sk-estimator-id-56\" type=\"checkbox\" ><label for=\"sk-estimator-id-56\" class=\"sk-toggleable__label sk-toggleable__label-arrow\">estimator: Pipeline</label><div class=\"sk-toggleable__content\"><pre>Pipeline(steps=[(&#x27;columntransformer&#x27;,\n",
       "                 ColumnTransformer(remainder=&#x27;passthrough&#x27;,\n",
       "                                   transformers=[(&#x27;ohe&#x27;,\n",
       "                                                  OneHotEncoder(drop=&#x27;first&#x27;,\n",
       "                                                                sparse=False),\n",
       "                                                  [&#x27;Recruitment Channel&#x27;,\n",
       "                                                   &#x27;Gender&#x27;,\n",
       "                                                   &#x27;NO_Trainings_LstYear&#x27;,\n",
       "                                                   &#x27;Awards&#x27;]),\n",
       "                                                 (&#x27;be&#x27;, BinaryEncoder(),\n",
       "                                                  [&#x27;Department&#x27;,\n",
       "                                                   &#x27;Region_Employment&#x27;])])),\n",
       "                (&#x27;decisiontreeclassifier&#x27;, DecisionTreeClassifier())])</pre></div></div></div><div class=\"sk-serial\"><div class=\"sk-item\"><div class=\"sk-serial\"><div class=\"sk-item sk-dashed-wrapped\"><div class=\"sk-label-container\"><div class=\"sk-label sk-toggleable\"><input class=\"sk-toggleable__control sk-hidden--visually\" id=\"sk-estimator-id-57\" type=\"checkbox\" ><label for=\"sk-estimator-id-57\" class=\"sk-toggleable__label sk-toggleable__label-arrow\">columntransformer: ColumnTransformer</label><div class=\"sk-toggleable__content\"><pre>ColumnTransformer(remainder=&#x27;passthrough&#x27;,\n",
       "                  transformers=[(&#x27;ohe&#x27;,\n",
       "                                 OneHotEncoder(drop=&#x27;first&#x27;, sparse=False),\n",
       "                                 [&#x27;Recruitment Channel&#x27;, &#x27;Gender&#x27;,\n",
       "                                  &#x27;NO_Trainings_LstYear&#x27;, &#x27;Awards&#x27;]),\n",
       "                                (&#x27;be&#x27;, BinaryEncoder(),\n",
       "                                 [&#x27;Department&#x27;, &#x27;Region_Employment&#x27;])])</pre></div></div></div><div class=\"sk-parallel\"><div class=\"sk-parallel-item\"><div class=\"sk-item\"><div class=\"sk-label-container\"><div class=\"sk-label sk-toggleable\"><input class=\"sk-toggleable__control sk-hidden--visually\" id=\"sk-estimator-id-58\" type=\"checkbox\" ><label for=\"sk-estimator-id-58\" class=\"sk-toggleable__label sk-toggleable__label-arrow\">ohe</label><div class=\"sk-toggleable__content\"><pre>[&#x27;Recruitment Channel&#x27;, &#x27;Gender&#x27;, &#x27;NO_Trainings_LstYear&#x27;, &#x27;Awards&#x27;]</pre></div></div></div><div class=\"sk-serial\"><div class=\"sk-item\"><div class=\"sk-estimator sk-toggleable\"><input class=\"sk-toggleable__control sk-hidden--visually\" id=\"sk-estimator-id-59\" type=\"checkbox\" ><label for=\"sk-estimator-id-59\" class=\"sk-toggleable__label sk-toggleable__label-arrow\">OneHotEncoder</label><div class=\"sk-toggleable__content\"><pre>OneHotEncoder(drop=&#x27;first&#x27;, sparse=False)</pre></div></div></div></div></div></div><div class=\"sk-parallel-item\"><div class=\"sk-item\"><div class=\"sk-label-container\"><div class=\"sk-label sk-toggleable\"><input class=\"sk-toggleable__control sk-hidden--visually\" id=\"sk-estimator-id-60\" type=\"checkbox\" ><label for=\"sk-estimator-id-60\" class=\"sk-toggleable__label sk-toggleable__label-arrow\">be</label><div class=\"sk-toggleable__content\"><pre>[&#x27;Department&#x27;, &#x27;Region_Employment&#x27;]</pre></div></div></div><div class=\"sk-serial\"><div class=\"sk-item\"><div class=\"sk-estimator sk-toggleable\"><input class=\"sk-toggleable__control sk-hidden--visually\" id=\"sk-estimator-id-61\" type=\"checkbox\" ><label for=\"sk-estimator-id-61\" class=\"sk-toggleable__label sk-toggleable__label-arrow\">BinaryEncoder</label><div class=\"sk-toggleable__content\"><pre>BinaryEncoder()</pre></div></div></div></div></div></div><div class=\"sk-parallel-item\"><div class=\"sk-item\"><div class=\"sk-label-container\"><div class=\"sk-label sk-toggleable\"><input class=\"sk-toggleable__control sk-hidden--visually\" id=\"sk-estimator-id-62\" type=\"checkbox\" ><label for=\"sk-estimator-id-62\" class=\"sk-toggleable__label sk-toggleable__label-arrow\">remainder</label><div class=\"sk-toggleable__content\"><pre></pre></div></div></div><div class=\"sk-serial\"><div class=\"sk-item\"><div class=\"sk-estimator sk-toggleable\"><input class=\"sk-toggleable__control sk-hidden--visually\" id=\"sk-estimator-id-63\" type=\"checkbox\" ><label for=\"sk-estimator-id-63\" class=\"sk-toggleable__label sk-toggleable__label-arrow\">passthrough</label><div class=\"sk-toggleable__content\"><pre>passthrough</pre></div></div></div></div></div></div></div></div><div class=\"sk-item\"><div class=\"sk-estimator sk-toggleable\"><input class=\"sk-toggleable__control sk-hidden--visually\" id=\"sk-estimator-id-64\" type=\"checkbox\" ><label for=\"sk-estimator-id-64\" class=\"sk-toggleable__label sk-toggleable__label-arrow\">DecisionTreeClassifier</label><div class=\"sk-toggleable__content\"><pre>DecisionTreeClassifier()</pre></div></div></div></div></div></div></div></div></div></div></div></div>"
      ],
      "text/plain": [
       "RandomizedSearchCV(cv=StratifiedKFold(n_splits=5, random_state=None, shuffle=False),\n",
       "                   estimator=Pipeline(steps=[('columntransformer',\n",
       "                                              ColumnTransformer(remainder='passthrough',\n",
       "                                                                transformers=[('ohe',\n",
       "                                                                               OneHotEncoder(drop='first',\n",
       "                                                                                             sparse=False),\n",
       "                                                                               ['Recruitment '\n",
       "                                                                                'Channel',\n",
       "                                                                                'Gender',\n",
       "                                                                                'NO_Trainings_LstYear',\n",
       "                                                                                'Awards']),\n",
       "                                                                              ('be',\n",
       "                                                                               BinaryEncoder(),\n",
       "                                                                               ['Department',\n",
       "                                                                                'Region_Employ...\n",
       "                                              DecisionTreeClassifier())]),\n",
       "                   param_distributions=[{'decisiontreeclassifier__max_depth': [4,\n",
       "                                                                               5,\n",
       "                                                                               6,\n",
       "                                                                               7,\n",
       "                                                                               8,\n",
       "                                                                               9,\n",
       "                                                                               10,\n",
       "                                                                               11,\n",
       "                                                                               12,\n",
       "                                                                               15],\n",
       "                                         'decisiontreeclassifier__max_leaf_nodes': [None,\n",
       "                                                                                    10,\n",
       "                                                                                    20,\n",
       "                                                                                    30,\n",
       "                                                                                    40,\n",
       "                                                                                    50,\n",
       "                                                                                    60,\n",
       "                                                                                    70,\n",
       "                                                                                    80,\n",
       "                                                                                    90],\n",
       "                                         'decisiontreeclassifier__min_samples_leaf': [1,\n",
       "                                                                                      2,\n",
       "                                                                                      3,\n",
       "                                                                                      4,\n",
       "                                                                                      5,\n",
       "                                                                                      6,\n",
       "                                                                                      7,\n",
       "                                                                                      8,\n",
       "                                                                                      9,\n",
       "                                                                                      10],\n",
       "                                         'decisiontreeclassifier__min_samples_split': [2,\n",
       "                                                                                       5,\n",
       "                                                                                       10]}],\n",
       "                   return_train_score=True, scoring='accuracy', verbose=1)"
      ]
     },
     "execution_count": 110,
     "metadata": {},
     "output_type": "execute_result"
    }
   ],
   "source": [
    "DTC_RanGrid.fit(x , y)"
   ]
  },
  {
   "cell_type": "code",
   "execution_count": 117,
   "id": "91c9028b",
   "metadata": {},
   "outputs": [
    {
     "data": {
      "text/html": [
       "<style>#sk-container-id-8 {color: black;background-color: white;}#sk-container-id-8 pre{padding: 0;}#sk-container-id-8 div.sk-toggleable {background-color: white;}#sk-container-id-8 label.sk-toggleable__label {cursor: pointer;display: block;width: 100%;margin-bottom: 0;padding: 0.3em;box-sizing: border-box;text-align: center;}#sk-container-id-8 label.sk-toggleable__label-arrow:before {content: \"▸\";float: left;margin-right: 0.25em;color: #696969;}#sk-container-id-8 label.sk-toggleable__label-arrow:hover:before {color: black;}#sk-container-id-8 div.sk-estimator:hover label.sk-toggleable__label-arrow:before {color: black;}#sk-container-id-8 div.sk-toggleable__content {max-height: 0;max-width: 0;overflow: hidden;text-align: left;background-color: #f0f8ff;}#sk-container-id-8 div.sk-toggleable__content pre {margin: 0.2em;color: black;border-radius: 0.25em;background-color: #f0f8ff;}#sk-container-id-8 input.sk-toggleable__control:checked~div.sk-toggleable__content {max-height: 200px;max-width: 100%;overflow: auto;}#sk-container-id-8 input.sk-toggleable__control:checked~label.sk-toggleable__label-arrow:before {content: \"▾\";}#sk-container-id-8 div.sk-estimator input.sk-toggleable__control:checked~label.sk-toggleable__label {background-color: #d4ebff;}#sk-container-id-8 div.sk-label input.sk-toggleable__control:checked~label.sk-toggleable__label {background-color: #d4ebff;}#sk-container-id-8 input.sk-hidden--visually {border: 0;clip: rect(1px 1px 1px 1px);clip: rect(1px, 1px, 1px, 1px);height: 1px;margin: -1px;overflow: hidden;padding: 0;position: absolute;width: 1px;}#sk-container-id-8 div.sk-estimator {font-family: monospace;background-color: #f0f8ff;border: 1px dotted black;border-radius: 0.25em;box-sizing: border-box;margin-bottom: 0.5em;}#sk-container-id-8 div.sk-estimator:hover {background-color: #d4ebff;}#sk-container-id-8 div.sk-parallel-item::after {content: \"\";width: 100%;border-bottom: 1px solid gray;flex-grow: 1;}#sk-container-id-8 div.sk-label:hover label.sk-toggleable__label {background-color: #d4ebff;}#sk-container-id-8 div.sk-serial::before {content: \"\";position: absolute;border-left: 1px solid gray;box-sizing: border-box;top: 0;bottom: 0;left: 50%;z-index: 0;}#sk-container-id-8 div.sk-serial {display: flex;flex-direction: column;align-items: center;background-color: white;padding-right: 0.2em;padding-left: 0.2em;position: relative;}#sk-container-id-8 div.sk-item {position: relative;z-index: 1;}#sk-container-id-8 div.sk-parallel {display: flex;align-items: stretch;justify-content: center;background-color: white;position: relative;}#sk-container-id-8 div.sk-item::before, #sk-container-id-8 div.sk-parallel-item::before {content: \"\";position: absolute;border-left: 1px solid gray;box-sizing: border-box;top: 0;bottom: 0;left: 50%;z-index: -1;}#sk-container-id-8 div.sk-parallel-item {display: flex;flex-direction: column;z-index: 1;position: relative;background-color: white;}#sk-container-id-8 div.sk-parallel-item:first-child::after {align-self: flex-end;width: 50%;}#sk-container-id-8 div.sk-parallel-item:last-child::after {align-self: flex-start;width: 50%;}#sk-container-id-8 div.sk-parallel-item:only-child::after {width: 0;}#sk-container-id-8 div.sk-dashed-wrapped {border: 1px dashed gray;margin: 0 0.4em 0.5em 0.4em;box-sizing: border-box;padding-bottom: 0.4em;background-color: white;}#sk-container-id-8 div.sk-label label {font-family: monospace;font-weight: bold;display: inline-block;line-height: 1.2em;}#sk-container-id-8 div.sk-label-container {text-align: center;}#sk-container-id-8 div.sk-container {/* jupyter's `normalize.less` sets `[hidden] { display: none; }` but bootstrap.min.css set `[hidden] { display: none !important; }` so we also need the `!important` here to be able to override the default hidden behavior on the sphinx rendered scikit-learn.org. See: https://github.com/scikit-learn/scikit-learn/issues/21755 */display: inline-block !important;position: relative;}#sk-container-id-8 div.sk-text-repr-fallback {display: none;}</style><div id=\"sk-container-id-8\" class=\"sk-top-container\"><div class=\"sk-text-repr-fallback\"><pre>Pipeline(steps=[(&#x27;columntransformer&#x27;,\n",
       "                 ColumnTransformer(remainder=&#x27;passthrough&#x27;,\n",
       "                                   transformers=[(&#x27;ohe&#x27;,\n",
       "                                                  OneHotEncoder(drop=&#x27;first&#x27;,\n",
       "                                                                sparse=False),\n",
       "                                                  [&#x27;Recruitment Channel&#x27;,\n",
       "                                                   &#x27;Gender&#x27;,\n",
       "                                                   &#x27;NO_Trainings_LstYear&#x27;,\n",
       "                                                   &#x27;Awards&#x27;]),\n",
       "                                                 (&#x27;be&#x27;, BinaryEncoder(),\n",
       "                                                  [&#x27;Department&#x27;,\n",
       "                                                   &#x27;Region_Employment&#x27;])])),\n",
       "                (&#x27;decisiontreeclassifier&#x27;,\n",
       "                 DecisionTreeClassifier(max_depth=11, max_leaf_nodes=60,\n",
       "                                        min_samples_leaf=6,\n",
       "                                        min_samples_split=5))])</pre><b>In a Jupyter environment, please rerun this cell to show the HTML representation or trust the notebook. <br />On GitHub, the HTML representation is unable to render, please try loading this page with nbviewer.org.</b></div><div class=\"sk-container\" hidden><div class=\"sk-item sk-dashed-wrapped\"><div class=\"sk-label-container\"><div class=\"sk-label sk-toggleable\"><input class=\"sk-toggleable__control sk-hidden--visually\" id=\"sk-estimator-id-65\" type=\"checkbox\" ><label for=\"sk-estimator-id-65\" class=\"sk-toggleable__label sk-toggleable__label-arrow\">Pipeline</label><div class=\"sk-toggleable__content\"><pre>Pipeline(steps=[(&#x27;columntransformer&#x27;,\n",
       "                 ColumnTransformer(remainder=&#x27;passthrough&#x27;,\n",
       "                                   transformers=[(&#x27;ohe&#x27;,\n",
       "                                                  OneHotEncoder(drop=&#x27;first&#x27;,\n",
       "                                                                sparse=False),\n",
       "                                                  [&#x27;Recruitment Channel&#x27;,\n",
       "                                                   &#x27;Gender&#x27;,\n",
       "                                                   &#x27;NO_Trainings_LstYear&#x27;,\n",
       "                                                   &#x27;Awards&#x27;]),\n",
       "                                                 (&#x27;be&#x27;, BinaryEncoder(),\n",
       "                                                  [&#x27;Department&#x27;,\n",
       "                                                   &#x27;Region_Employment&#x27;])])),\n",
       "                (&#x27;decisiontreeclassifier&#x27;,\n",
       "                 DecisionTreeClassifier(max_depth=11, max_leaf_nodes=60,\n",
       "                                        min_samples_leaf=6,\n",
       "                                        min_samples_split=5))])</pre></div></div></div><div class=\"sk-serial\"><div class=\"sk-item sk-dashed-wrapped\"><div class=\"sk-label-container\"><div class=\"sk-label sk-toggleable\"><input class=\"sk-toggleable__control sk-hidden--visually\" id=\"sk-estimator-id-66\" type=\"checkbox\" ><label for=\"sk-estimator-id-66\" class=\"sk-toggleable__label sk-toggleable__label-arrow\">columntransformer: ColumnTransformer</label><div class=\"sk-toggleable__content\"><pre>ColumnTransformer(remainder=&#x27;passthrough&#x27;,\n",
       "                  transformers=[(&#x27;ohe&#x27;,\n",
       "                                 OneHotEncoder(drop=&#x27;first&#x27;, sparse=False),\n",
       "                                 [&#x27;Recruitment Channel&#x27;, &#x27;Gender&#x27;,\n",
       "                                  &#x27;NO_Trainings_LstYear&#x27;, &#x27;Awards&#x27;]),\n",
       "                                (&#x27;be&#x27;, BinaryEncoder(),\n",
       "                                 [&#x27;Department&#x27;, &#x27;Region_Employment&#x27;])])</pre></div></div></div><div class=\"sk-parallel\"><div class=\"sk-parallel-item\"><div class=\"sk-item\"><div class=\"sk-label-container\"><div class=\"sk-label sk-toggleable\"><input class=\"sk-toggleable__control sk-hidden--visually\" id=\"sk-estimator-id-67\" type=\"checkbox\" ><label for=\"sk-estimator-id-67\" class=\"sk-toggleable__label sk-toggleable__label-arrow\">ohe</label><div class=\"sk-toggleable__content\"><pre>[&#x27;Recruitment Channel&#x27;, &#x27;Gender&#x27;, &#x27;NO_Trainings_LstYear&#x27;, &#x27;Awards&#x27;]</pre></div></div></div><div class=\"sk-serial\"><div class=\"sk-item\"><div class=\"sk-estimator sk-toggleable\"><input class=\"sk-toggleable__control sk-hidden--visually\" id=\"sk-estimator-id-68\" type=\"checkbox\" ><label for=\"sk-estimator-id-68\" class=\"sk-toggleable__label sk-toggleable__label-arrow\">OneHotEncoder</label><div class=\"sk-toggleable__content\"><pre>OneHotEncoder(drop=&#x27;first&#x27;, sparse=False)</pre></div></div></div></div></div></div><div class=\"sk-parallel-item\"><div class=\"sk-item\"><div class=\"sk-label-container\"><div class=\"sk-label sk-toggleable\"><input class=\"sk-toggleable__control sk-hidden--visually\" id=\"sk-estimator-id-69\" type=\"checkbox\" ><label for=\"sk-estimator-id-69\" class=\"sk-toggleable__label sk-toggleable__label-arrow\">be</label><div class=\"sk-toggleable__content\"><pre>[&#x27;Department&#x27;, &#x27;Region_Employment&#x27;]</pre></div></div></div><div class=\"sk-serial\"><div class=\"sk-item\"><div class=\"sk-estimator sk-toggleable\"><input class=\"sk-toggleable__control sk-hidden--visually\" id=\"sk-estimator-id-70\" type=\"checkbox\" ><label for=\"sk-estimator-id-70\" class=\"sk-toggleable__label sk-toggleable__label-arrow\">BinaryEncoder</label><div class=\"sk-toggleable__content\"><pre>BinaryEncoder()</pre></div></div></div></div></div></div><div class=\"sk-parallel-item\"><div class=\"sk-item\"><div class=\"sk-label-container\"><div class=\"sk-label sk-toggleable\"><input class=\"sk-toggleable__control sk-hidden--visually\" id=\"sk-estimator-id-71\" type=\"checkbox\" ><label for=\"sk-estimator-id-71\" class=\"sk-toggleable__label sk-toggleable__label-arrow\">remainder</label><div class=\"sk-toggleable__content\"><pre>[&#x27;Education Level&#x27;, &#x27;Age&#x27;, &#x27;previous_year_rating&#x27;, &#x27;Service Length&#x27;, &#x27;Avg_Training_Score&#x27;]</pre></div></div></div><div class=\"sk-serial\"><div class=\"sk-item\"><div class=\"sk-estimator sk-toggleable\"><input class=\"sk-toggleable__control sk-hidden--visually\" id=\"sk-estimator-id-72\" type=\"checkbox\" ><label for=\"sk-estimator-id-72\" class=\"sk-toggleable__label sk-toggleable__label-arrow\">passthrough</label><div class=\"sk-toggleable__content\"><pre>passthrough</pre></div></div></div></div></div></div></div></div><div class=\"sk-item\"><div class=\"sk-estimator sk-toggleable\"><input class=\"sk-toggleable__control sk-hidden--visually\" id=\"sk-estimator-id-73\" type=\"checkbox\" ><label for=\"sk-estimator-id-73\" class=\"sk-toggleable__label sk-toggleable__label-arrow\">DecisionTreeClassifier</label><div class=\"sk-toggleable__content\"><pre>DecisionTreeClassifier(max_depth=11, max_leaf_nodes=60, min_samples_leaf=6,\n",
       "                       min_samples_split=5)</pre></div></div></div></div></div></div></div>"
      ],
      "text/plain": [
       "Pipeline(steps=[('columntransformer',\n",
       "                 ColumnTransformer(remainder='passthrough',\n",
       "                                   transformers=[('ohe',\n",
       "                                                  OneHotEncoder(drop='first',\n",
       "                                                                sparse=False),\n",
       "                                                  ['Recruitment Channel',\n",
       "                                                   'Gender',\n",
       "                                                   'NO_Trainings_LstYear',\n",
       "                                                   'Awards']),\n",
       "                                                 ('be', BinaryEncoder(),\n",
       "                                                  ['Department',\n",
       "                                                   'Region_Employment'])])),\n",
       "                ('decisiontreeclassifier',\n",
       "                 DecisionTreeClassifier(max_depth=11, max_leaf_nodes=60,\n",
       "                                        min_samples_leaf=6,\n",
       "                                        min_samples_split=5))])"
      ]
     },
     "execution_count": 117,
     "metadata": {},
     "output_type": "execute_result"
    }
   ],
   "source": [
    "DTC_RanGrid.best_estimator_"
   ]
  },
  {
   "cell_type": "code",
   "execution_count": 111,
   "id": "ed79d5f9",
   "metadata": {},
   "outputs": [
    {
     "data": {
      "text/plain": [
       "0.71067385187877"
      ]
     },
     "execution_count": 111,
     "metadata": {},
     "output_type": "execute_result"
    }
   ],
   "source": [
    "DTC_RanGrid.best_score_"
   ]
  },
  {
   "cell_type": "code",
   "execution_count": 112,
   "id": "4b66e5f4",
   "metadata": {},
   "outputs": [
    {
     "data": {
      "text/plain": [
       "0.7463565286992482"
      ]
     },
     "execution_count": 112,
     "metadata": {},
     "output_type": "execute_result"
    }
   ],
   "source": [
    "DTC_RanGrid.cv_results_['mean_train_score'].max()"
   ]
  },
  {
   "cell_type": "code",
   "execution_count": 113,
   "id": "00065806",
   "metadata": {},
   "outputs": [
    {
     "data": {
      "text/plain": [
       "<sklearn.metrics._plot.confusion_matrix.ConfusionMatrixDisplay at 0x2a634edca60>"
      ]
     },
     "execution_count": 113,
     "metadata": {},
     "output_type": "execute_result"
    },
    {
     "data": {
      "image/png": "[encoded data removed]",
      "text/plain": [
       "<Figure size 720x288 with 2 Axes>"
      ]
     },
     "metadata": {},
     "output_type": "display_data"
    }
   ],
   "source": [
    "sns.set_style('white')\n",
    "plot_confusion_matrix(DTC_RanGrid.best_estimator_ , x , y)"
   ]
  },
  {
   "cell_type": "code",
   "execution_count": 114,
   "id": "a69f82f5",
   "metadata": {},
   "outputs": [
    {
     "data": {
      "text/plain": [
       "0.8008837337752002"
      ]
     },
     "execution_count": 114,
     "metadata": {},
     "output_type": "execute_result"
    }
   ],
   "source": [
    "recall_score(DTC_RanGrid.best_estimator_.predict(x) , y)"
   ]
  },
  {
   "cell_type": "code",
   "execution_count": 115,
   "id": "b9b4407d",
   "metadata": {},
   "outputs": [
    {
     "data": {
      "text/plain": [
       "0.6998913961626645"
      ]
     },
     "execution_count": 115,
     "metadata": {},
     "output_type": "execute_result"
    }
   ],
   "source": [
    "f1_score(DTC_RanGrid.best_estimator_.predict(x) , y)"
   ]
  },
  {
   "cell_type": "code",
   "execution_count": 116,
   "id": "7712f34f",
   "metadata": {},
   "outputs": [
    {
     "data": {
      "text/plain": [
       "0.6215173596228033"
      ]
     },
     "execution_count": 116,
     "metadata": {},
     "output_type": "execute_result"
    }
   ],
   "source": [
    "precision_score(DTC_RanGrid.best_estimator_.predict(x) , y)"
   ]
  },
  {
   "cell_type": "markdown",
   "id": "5fe74471",
   "metadata": {},
   "source": [
    "# `-----------------RandomForestClassifier For Tunning-----------------`"
   ]
  },
  {
   "cell_type": "code",
   "execution_count": 118,
   "id": "200201e8",
   "metadata": {},
   "outputs": [],
   "source": [
    "RF_params = [\n",
    "    {\n",
    "        'randomforestclassifier__max_depth': [4,5,6,7,8],\n",
    "        'randomforestclassifier__min_samples_leaf':[1,2,3,4,5],\n",
    "        'randomforestclassifier__min_samples_split': [2, 5, 10],\n",
    "        'randomforestclassifier__n_estimators': list(range(30, 500, 20)),\n",
    "    }\n",
    "]"
   ]
  },
  {
   "cell_type": "code",
   "execution_count": 119,
   "id": "351644dd",
   "metadata": {},
   "outputs": [],
   "source": [
    "RFC = make_pipeline(trans, RandomForestClassifier())"
   ]
  },
  {
   "cell_type": "code",
   "execution_count": 132,
   "id": "c51dc916",
   "metadata": {},
   "outputs": [],
   "source": [
    "RF_RanGrid = RandomizedSearchCV(estimator=RFC , param_distributions= RF_params ,\n",
    "                                 scoring='accuracy' , cv = StratifiedKFold(n_splits=5) ,\n",
    "                                 return_train_score=True , n_iter=10 , verbose=True )"
   ]
  },
  {
   "cell_type": "code",
   "execution_count": 133,
   "id": "d8805b56",
   "metadata": {},
   "outputs": [
    {
     "name": "stdout",
     "output_type": "stream",
     "text": [
      "Fitting 5 folds for each of 10 candidates, totalling 50 fits\n"
     ]
    },
    {
     "data": {
      "text/html": [
       "<style>#sk-container-id-12 {color: black;background-color: white;}#sk-container-id-12 pre{padding: 0;}#sk-container-id-12 div.sk-toggleable {background-color: white;}#sk-container-id-12 label.sk-toggleable__label {cursor: pointer;display: block;width: 100%;margin-bottom: 0;padding: 0.3em;box-sizing: border-box;text-align: center;}#sk-container-id-12 label.sk-toggleable__label-arrow:before {content: \"▸\";float: left;margin-right: 0.25em;color: #696969;}#sk-container-id-12 label.sk-toggleable__label-arrow:hover:before {color: black;}#sk-container-id-12 div.sk-estimator:hover label.sk-toggleable__label-arrow:before {color: black;}#sk-container-id-12 div.sk-toggleable__content {max-height: 0;max-width: 0;overflow: hidden;text-align: left;background-color: #f0f8ff;}#sk-container-id-12 div.sk-toggleable__content pre {margin: 0.2em;color: black;border-radius: 0.25em;background-color: #f0f8ff;}#sk-container-id-12 input.sk-toggleable__control:checked~div.sk-toggleable__content {max-height: 200px;max-width: 100%;overflow: auto;}#sk-container-id-12 input.sk-toggleable__control:checked~label.sk-toggleable__label-arrow:before {content: \"▾\";}#sk-container-id-12 div.sk-estimator input.sk-toggleable__control:checked~label.sk-toggleable__label {background-color: #d4ebff;}#sk-container-id-12 div.sk-label input.sk-toggleable__control:checked~label.sk-toggleable__label {background-color: #d4ebff;}#sk-container-id-12 input.sk-hidden--visually {border: 0;clip: rect(1px 1px 1px 1px);clip: rect(1px, 1px, 1px, 1px);height: 1px;margin: -1px;overflow: hidden;padding: 0;position: absolute;width: 1px;}#sk-container-id-12 div.sk-estimator {font-family: monospace;background-color: #f0f8ff;border: 1px dotted black;border-radius: 0.25em;box-sizing: border-box;margin-bottom: 0.5em;}#sk-container-id-12 div.sk-estimator:hover {background-color: #d4ebff;}#sk-container-id-12 div.sk-parallel-item::after {content: \"\";width: 100%;border-bottom: 1px solid gray;flex-grow: 1;}#sk-container-id-12 div.sk-label:hover label.sk-toggleable__label {background-color: #d4ebff;}#sk-container-id-12 div.sk-serial::before {content: \"\";position: absolute;border-left: 1px solid gray;box-sizing: border-box;top: 0;bottom: 0;left: 50%;z-index: 0;}#sk-container-id-12 div.sk-serial {display: flex;flex-direction: column;align-items: center;background-color: white;padding-right: 0.2em;padding-left: 0.2em;position: relative;}#sk-container-id-12 div.sk-item {position: relative;z-index: 1;}#sk-container-id-12 div.sk-parallel {display: flex;align-items: stretch;justify-content: center;background-color: white;position: relative;}#sk-container-id-12 div.sk-item::before, #sk-container-id-12 div.sk-parallel-item::before {content: \"\";position: absolute;border-left: 1px solid gray;box-sizing: border-box;top: 0;bottom: 0;left: 50%;z-index: -1;}#sk-container-id-12 div.sk-parallel-item {display: flex;flex-direction: column;z-index: 1;position: relative;background-color: white;}#sk-container-id-12 div.sk-parallel-item:first-child::after {align-self: flex-end;width: 50%;}#sk-container-id-12 div.sk-parallel-item:last-child::after {align-self: flex-start;width: 50%;}#sk-container-id-12 div.sk-parallel-item:only-child::after {width: 0;}#sk-container-id-12 div.sk-dashed-wrapped {border: 1px dashed gray;margin: 0 0.4em 0.5em 0.4em;box-sizing: border-box;padding-bottom: 0.4em;background-color: white;}#sk-container-id-12 div.sk-label label {font-family: monospace;font-weight: bold;display: inline-block;line-height: 1.2em;}#sk-container-id-12 div.sk-label-container {text-align: center;}#sk-container-id-12 div.sk-container {/* jupyter's `normalize.less` sets `[hidden] { display: none; }` but bootstrap.min.css set `[hidden] { display: none !important; }` so we also need the `!important` here to be able to override the default hidden behavior on the sphinx rendered scikit-learn.org. See: https://github.com/scikit-learn/scikit-learn/issues/21755 */display: inline-block !important;position: relative;}#sk-container-id-12 div.sk-text-repr-fallback {display: none;}</style><div id=\"sk-container-id-12\" class=\"sk-top-container\"><div class=\"sk-text-repr-fallback\"><pre>RandomizedSearchCV(cv=StratifiedKFold(n_splits=5, random_state=None, shuffle=False),\n",
       "                   estimator=Pipeline(steps=[(&#x27;columntransformer&#x27;,\n",
       "                                              ColumnTransformer(remainder=&#x27;passthrough&#x27;,\n",
       "                                                                transformers=[(&#x27;ohe&#x27;,\n",
       "                                                                               OneHotEncoder(drop=&#x27;first&#x27;,\n",
       "                                                                                             sparse=False),\n",
       "                                                                               [&#x27;Recruitment &#x27;\n",
       "                                                                                &#x27;Channel&#x27;,\n",
       "                                                                                &#x27;Gender&#x27;,\n",
       "                                                                                &#x27;NO_Trainings_LstYear&#x27;,\n",
       "                                                                                &#x27;Awards&#x27;]),\n",
       "                                                                              (&#x27;be&#x27;,\n",
       "                                                                               BinaryEncoder(),\n",
       "                                                                               [&#x27;Department&#x27;,\n",
       "                                                                                &#x27;Region_Employ...\n",
       "                   param_distributions=[{&#x27;randomforestclassifier__max_depth&#x27;: [4,\n",
       "                                                                               5,\n",
       "                                                                               6,\n",
       "                                                                               7,\n",
       "                                                                               8],\n",
       "                                         &#x27;randomforestclassifier__min_samples_leaf&#x27;: [1,\n",
       "                                                                                      2,\n",
       "                                                                                      3,\n",
       "                                                                                      4,\n",
       "                                                                                      5],\n",
       "                                         &#x27;randomforestclassifier__min_samples_split&#x27;: [2,\n",
       "                                                                                       5,\n",
       "                                                                                       10],\n",
       "                                         &#x27;randomforestclassifier__n_estimators&#x27;: [30,\n",
       "                                                                                  50,\n",
       "                                                                                  70,\n",
       "                                                                                  90,\n",
       "                                                                                  110,\n",
       "                                                                                  130,\n",
       "                                                                                  150,\n",
       "                                                                                  170,\n",
       "                                                                                  190,\n",
       "                                                                                  210,\n",
       "                                                                                  230,\n",
       "                                                                                  250,\n",
       "                                                                                  270,\n",
       "                                                                                  290,\n",
       "                                                                                  310,\n",
       "                                                                                  330,\n",
       "                                                                                  350,\n",
       "                                                                                  370,\n",
       "                                                                                  390,\n",
       "                                                                                  410,\n",
       "                                                                                  430,\n",
       "                                                                                  450,\n",
       "                                                                                  470,\n",
       "                                                                                  490]}],\n",
       "                   return_train_score=True, scoring=&#x27;accuracy&#x27;, verbose=True)</pre><b>In a Jupyter environment, please rerun this cell to show the HTML representation or trust the notebook. <br />On GitHub, the HTML representation is unable to render, please try loading this page with nbviewer.org.</b></div><div class=\"sk-container\" hidden><div class=\"sk-item sk-dashed-wrapped\"><div class=\"sk-label-container\"><div class=\"sk-label sk-toggleable\"><input class=\"sk-toggleable__control sk-hidden--visually\" id=\"sk-estimator-id-94\" type=\"checkbox\" ><label for=\"sk-estimator-id-94\" class=\"sk-toggleable__label sk-toggleable__label-arrow\">RandomizedSearchCV</label><div class=\"sk-toggleable__content\"><pre>RandomizedSearchCV(cv=StratifiedKFold(n_splits=5, random_state=None, shuffle=False),\n",
       "                   estimator=Pipeline(steps=[(&#x27;columntransformer&#x27;,\n",
       "                                              ColumnTransformer(remainder=&#x27;passthrough&#x27;,\n",
       "                                                                transformers=[(&#x27;ohe&#x27;,\n",
       "                                                                               OneHotEncoder(drop=&#x27;first&#x27;,\n",
       "                                                                                             sparse=False),\n",
       "                                                                               [&#x27;Recruitment &#x27;\n",
       "                                                                                &#x27;Channel&#x27;,\n",
       "                                                                                &#x27;Gender&#x27;,\n",
       "                                                                                &#x27;NO_Trainings_LstYear&#x27;,\n",
       "                                                                                &#x27;Awards&#x27;]),\n",
       "                                                                              (&#x27;be&#x27;,\n",
       "                                                                               BinaryEncoder(),\n",
       "                                                                               [&#x27;Department&#x27;,\n",
       "                                                                                &#x27;Region_Employ...\n",
       "                   param_distributions=[{&#x27;randomforestclassifier__max_depth&#x27;: [4,\n",
       "                                                                               5,\n",
       "                                                                               6,\n",
       "                                                                               7,\n",
       "                                                                               8],\n",
       "                                         &#x27;randomforestclassifier__min_samples_leaf&#x27;: [1,\n",
       "                                                                                      2,\n",
       "                                                                                      3,\n",
       "                                                                                      4,\n",
       "                                                                                      5],\n",
       "                                         &#x27;randomforestclassifier__min_samples_split&#x27;: [2,\n",
       "                                                                                       5,\n",
       "                                                                                       10],\n",
       "                                         &#x27;randomforestclassifier__n_estimators&#x27;: [30,\n",
       "                                                                                  50,\n",
       "                                                                                  70,\n",
       "                                                                                  90,\n",
       "                                                                                  110,\n",
       "                                                                                  130,\n",
       "                                                                                  150,\n",
       "                                                                                  170,\n",
       "                                                                                  190,\n",
       "                                                                                  210,\n",
       "                                                                                  230,\n",
       "                                                                                  250,\n",
       "                                                                                  270,\n",
       "                                                                                  290,\n",
       "                                                                                  310,\n",
       "                                                                                  330,\n",
       "                                                                                  350,\n",
       "                                                                                  370,\n",
       "                                                                                  390,\n",
       "                                                                                  410,\n",
       "                                                                                  430,\n",
       "                                                                                  450,\n",
       "                                                                                  470,\n",
       "                                                                                  490]}],\n",
       "                   return_train_score=True, scoring=&#x27;accuracy&#x27;, verbose=True)</pre></div></div></div><div class=\"sk-parallel\"><div class=\"sk-parallel-item\"><div class=\"sk-item\"><div class=\"sk-label-container\"><div class=\"sk-label sk-toggleable\"><input class=\"sk-toggleable__control sk-hidden--visually\" id=\"sk-estimator-id-95\" type=\"checkbox\" ><label for=\"sk-estimator-id-95\" class=\"sk-toggleable__label sk-toggleable__label-arrow\">estimator: Pipeline</label><div class=\"sk-toggleable__content\"><pre>Pipeline(steps=[(&#x27;columntransformer&#x27;,\n",
       "                 ColumnTransformer(remainder=&#x27;passthrough&#x27;,\n",
       "                                   transformers=[(&#x27;ohe&#x27;,\n",
       "                                                  OneHotEncoder(drop=&#x27;first&#x27;,\n",
       "                                                                sparse=False),\n",
       "                                                  [&#x27;Recruitment Channel&#x27;,\n",
       "                                                   &#x27;Gender&#x27;,\n",
       "                                                   &#x27;NO_Trainings_LstYear&#x27;,\n",
       "                                                   &#x27;Awards&#x27;]),\n",
       "                                                 (&#x27;be&#x27;, BinaryEncoder(),\n",
       "                                                  [&#x27;Department&#x27;,\n",
       "                                                   &#x27;Region_Employment&#x27;])])),\n",
       "                (&#x27;randomforestclassifier&#x27;, RandomForestClassifier())])</pre></div></div></div><div class=\"sk-serial\"><div class=\"sk-item\"><div class=\"sk-serial\"><div class=\"sk-item sk-dashed-wrapped\"><div class=\"sk-label-container\"><div class=\"sk-label sk-toggleable\"><input class=\"sk-toggleable__control sk-hidden--visually\" id=\"sk-estimator-id-96\" type=\"checkbox\" ><label for=\"sk-estimator-id-96\" class=\"sk-toggleable__label sk-toggleable__label-arrow\">columntransformer: ColumnTransformer</label><div class=\"sk-toggleable__content\"><pre>ColumnTransformer(remainder=&#x27;passthrough&#x27;,\n",
       "                  transformers=[(&#x27;ohe&#x27;,\n",
       "                                 OneHotEncoder(drop=&#x27;first&#x27;, sparse=False),\n",
       "                                 [&#x27;Recruitment Channel&#x27;, &#x27;Gender&#x27;,\n",
       "                                  &#x27;NO_Trainings_LstYear&#x27;, &#x27;Awards&#x27;]),\n",
       "                                (&#x27;be&#x27;, BinaryEncoder(),\n",
       "                                 [&#x27;Department&#x27;, &#x27;Region_Employment&#x27;])])</pre></div></div></div><div class=\"sk-parallel\"><div class=\"sk-parallel-item\"><div class=\"sk-item\"><div class=\"sk-label-container\"><div class=\"sk-label sk-toggleable\"><input class=\"sk-toggleable__control sk-hidden--visually\" id=\"sk-estimator-id-97\" type=\"checkbox\" ><label for=\"sk-estimator-id-97\" class=\"sk-toggleable__label sk-toggleable__label-arrow\">ohe</label><div class=\"sk-toggleable__content\"><pre>[&#x27;Recruitment Channel&#x27;, &#x27;Gender&#x27;, &#x27;NO_Trainings_LstYear&#x27;, &#x27;Awards&#x27;]</pre></div></div></div><div class=\"sk-serial\"><div class=\"sk-item\"><div class=\"sk-estimator sk-toggleable\"><input class=\"sk-toggleable__control sk-hidden--visually\" id=\"sk-estimator-id-98\" type=\"checkbox\" ><label for=\"sk-estimator-id-98\" class=\"sk-toggleable__label sk-toggleable__label-arrow\">OneHotEncoder</label><div class=\"sk-toggleable__content\"><pre>OneHotEncoder(drop=&#x27;first&#x27;, sparse=False)</pre></div></div></div></div></div></div><div class=\"sk-parallel-item\"><div class=\"sk-item\"><div class=\"sk-label-container\"><div class=\"sk-label sk-toggleable\"><input class=\"sk-toggleable__control sk-hidden--visually\" id=\"sk-estimator-id-99\" type=\"checkbox\" ><label for=\"sk-estimator-id-99\" class=\"sk-toggleable__label sk-toggleable__label-arrow\">be</label><div class=\"sk-toggleable__content\"><pre>[&#x27;Department&#x27;, &#x27;Region_Employment&#x27;]</pre></div></div></div><div class=\"sk-serial\"><div class=\"sk-item\"><div class=\"sk-estimator sk-toggleable\"><input class=\"sk-toggleable__control sk-hidden--visually\" id=\"sk-estimator-id-100\" type=\"checkbox\" ><label for=\"sk-estimator-id-100\" class=\"sk-toggleable__label sk-toggleable__label-arrow\">BinaryEncoder</label><div class=\"sk-toggleable__content\"><pre>BinaryEncoder()</pre></div></div></div></div></div></div><div class=\"sk-parallel-item\"><div class=\"sk-item\"><div class=\"sk-label-container\"><div class=\"sk-label sk-toggleable\"><input class=\"sk-toggleable__control sk-hidden--visually\" id=\"sk-estimator-id-101\" type=\"checkbox\" ><label for=\"sk-estimator-id-101\" class=\"sk-toggleable__label sk-toggleable__label-arrow\">remainder</label><div class=\"sk-toggleable__content\"><pre></pre></div></div></div><div class=\"sk-serial\"><div class=\"sk-item\"><div class=\"sk-estimator sk-toggleable\"><input class=\"sk-toggleable__control sk-hidden--visually\" id=\"sk-estimator-id-102\" type=\"checkbox\" ><label for=\"sk-estimator-id-102\" class=\"sk-toggleable__label sk-toggleable__label-arrow\">passthrough</label><div class=\"sk-toggleable__content\"><pre>passthrough</pre></div></div></div></div></div></div></div></div><div class=\"sk-item\"><div class=\"sk-estimator sk-toggleable\"><input class=\"sk-toggleable__control sk-hidden--visually\" id=\"sk-estimator-id-103\" type=\"checkbox\" ><label for=\"sk-estimator-id-103\" class=\"sk-toggleable__label sk-toggleable__label-arrow\">RandomForestClassifier</label><div class=\"sk-toggleable__content\"><pre>RandomForestClassifier()</pre></div></div></div></div></div></div></div></div></div></div></div></div>"
      ],
      "text/plain": [
       "RandomizedSearchCV(cv=StratifiedKFold(n_splits=5, random_state=None, shuffle=False),\n",
       "                   estimator=Pipeline(steps=[('columntransformer',\n",
       "                                              ColumnTransformer(remainder='passthrough',\n",
       "                                                                transformers=[('ohe',\n",
       "                                                                               OneHotEncoder(drop='first',\n",
       "                                                                                             sparse=False),\n",
       "                                                                               ['Recruitment '\n",
       "                                                                                'Channel',\n",
       "                                                                                'Gender',\n",
       "                                                                                'NO_Trainings_LstYear',\n",
       "                                                                                'Awards']),\n",
       "                                                                              ('be',\n",
       "                                                                               BinaryEncoder(),\n",
       "                                                                               ['Department',\n",
       "                                                                                'Region_Employ...\n",
       "                   param_distributions=[{'randomforestclassifier__max_depth': [4,\n",
       "                                                                               5,\n",
       "                                                                               6,\n",
       "                                                                               7,\n",
       "                                                                               8],\n",
       "                                         'randomforestclassifier__min_samples_leaf': [1,\n",
       "                                                                                      2,\n",
       "                                                                                      3,\n",
       "                                                                                      4,\n",
       "                                                                                      5],\n",
       "                                         'randomforestclassifier__min_samples_split': [2,\n",
       "                                                                                       5,\n",
       "                                                                                       10],\n",
       "                                         'randomforestclassifier__n_estimators': [30,\n",
       "                                                                                  50,\n",
       "                                                                                  70,\n",
       "                                                                                  90,\n",
       "                                                                                  110,\n",
       "                                                                                  130,\n",
       "                                                                                  150,\n",
       "                                                                                  170,\n",
       "                                                                                  190,\n",
       "                                                                                  210,\n",
       "                                                                                  230,\n",
       "                                                                                  250,\n",
       "                                                                                  270,\n",
       "                                                                                  290,\n",
       "                                                                                  310,\n",
       "                                                                                  330,\n",
       "                                                                                  350,\n",
       "                                                                                  370,\n",
       "                                                                                  390,\n",
       "                                                                                  410,\n",
       "                                                                                  430,\n",
       "                                                                                  450,\n",
       "                                                                                  470,\n",
       "                                                                                  490]}],\n",
       "                   return_train_score=True, scoring='accuracy', verbose=True)"
      ]
     },
     "execution_count": 133,
     "metadata": {},
     "output_type": "execute_result"
    }
   ],
   "source": [
    "RF_RanGrid.fit(x , y)"
   ]
  },
  {
   "cell_type": "code",
   "execution_count": 124,
   "id": "e6c124bc",
   "metadata": {},
   "outputs": [
    {
     "data": {
      "text/html": [
       "<style>#sk-container-id-10 {color: black;background-color: white;}#sk-container-id-10 pre{padding: 0;}#sk-container-id-10 div.sk-toggleable {background-color: white;}#sk-container-id-10 label.sk-toggleable__label {cursor: pointer;display: block;width: 100%;margin-bottom: 0;padding: 0.3em;box-sizing: border-box;text-align: center;}#sk-container-id-10 label.sk-toggleable__label-arrow:before {content: \"▸\";float: left;margin-right: 0.25em;color: #696969;}#sk-container-id-10 label.sk-toggleable__label-arrow:hover:before {color: black;}#sk-container-id-10 div.sk-estimator:hover label.sk-toggleable__label-arrow:before {color: black;}#sk-container-id-10 div.sk-toggleable__content {max-height: 0;max-width: 0;overflow: hidden;text-align: left;background-color: #f0f8ff;}#sk-container-id-10 div.sk-toggleable__content pre {margin: 0.2em;color: black;border-radius: 0.25em;background-color: #f0f8ff;}#sk-container-id-10 input.sk-toggleable__control:checked~div.sk-toggleable__content {max-height: 200px;max-width: 100%;overflow: auto;}#sk-container-id-10 input.sk-toggleable__control:checked~label.sk-toggleable__label-arrow:before {content: \"▾\";}#sk-container-id-10 div.sk-estimator input.sk-toggleable__control:checked~label.sk-toggleable__label {background-color: #d4ebff;}#sk-container-id-10 div.sk-label input.sk-toggleable__control:checked~label.sk-toggleable__label {background-color: #d4ebff;}#sk-container-id-10 input.sk-hidden--visually {border: 0;clip: rect(1px 1px 1px 1px);clip: rect(1px, 1px, 1px, 1px);height: 1px;margin: -1px;overflow: hidden;padding: 0;position: absolute;width: 1px;}#sk-container-id-10 div.sk-estimator {font-family: monospace;background-color: #f0f8ff;border: 1px dotted black;border-radius: 0.25em;box-sizing: border-box;margin-bottom: 0.5em;}#sk-container-id-10 div.sk-estimator:hover {background-color: #d4ebff;}#sk-container-id-10 div.sk-parallel-item::after {content: \"\";width: 100%;border-bottom: 1px solid gray;flex-grow: 1;}#sk-container-id-10 div.sk-label:hover label.sk-toggleable__label {background-color: #d4ebff;}#sk-container-id-10 div.sk-serial::before {content: \"\";position: absolute;border-left: 1px solid gray;box-sizing: border-box;top: 0;bottom: 0;left: 50%;z-index: 0;}#sk-container-id-10 div.sk-serial {display: flex;flex-direction: column;align-items: center;background-color: white;padding-right: 0.2em;padding-left: 0.2em;position: relative;}#sk-container-id-10 div.sk-item {position: relative;z-index: 1;}#sk-container-id-10 div.sk-parallel {display: flex;align-items: stretch;justify-content: center;background-color: white;position: relative;}#sk-container-id-10 div.sk-item::before, #sk-container-id-10 div.sk-parallel-item::before {content: \"\";position: absolute;border-left: 1px solid gray;box-sizing: border-box;top: 0;bottom: 0;left: 50%;z-index: -1;}#sk-container-id-10 div.sk-parallel-item {display: flex;flex-direction: column;z-index: 1;position: relative;background-color: white;}#sk-container-id-10 div.sk-parallel-item:first-child::after {align-self: flex-end;width: 50%;}#sk-container-id-10 div.sk-parallel-item:last-child::after {align-self: flex-start;width: 50%;}#sk-container-id-10 div.sk-parallel-item:only-child::after {width: 0;}#sk-container-id-10 div.sk-dashed-wrapped {border: 1px dashed gray;margin: 0 0.4em 0.5em 0.4em;box-sizing: border-box;padding-bottom: 0.4em;background-color: white;}#sk-container-id-10 div.sk-label label {font-family: monospace;font-weight: bold;display: inline-block;line-height: 1.2em;}#sk-container-id-10 div.sk-label-container {text-align: center;}#sk-container-id-10 div.sk-container {/* jupyter's `normalize.less` sets `[hidden] { display: none; }` but bootstrap.min.css set `[hidden] { display: none !important; }` so we also need the `!important` here to be able to override the default hidden behavior on the sphinx rendered scikit-learn.org. See: https://github.com/scikit-learn/scikit-learn/issues/21755 */display: inline-block !important;position: relative;}#sk-container-id-10 div.sk-text-repr-fallback {display: none;}</style><div id=\"sk-container-id-10\" class=\"sk-top-container\"><div class=\"sk-text-repr-fallback\"><pre>Pipeline(steps=[(&#x27;columntransformer&#x27;,\n",
       "                 ColumnTransformer(remainder=&#x27;passthrough&#x27;,\n",
       "                                   transformers=[(&#x27;ohe&#x27;,\n",
       "                                                  OneHotEncoder(drop=&#x27;first&#x27;,\n",
       "                                                                sparse=False),\n",
       "                                                  [&#x27;Recruitment Channel&#x27;,\n",
       "                                                   &#x27;Gender&#x27;,\n",
       "                                                   &#x27;NO_Trainings_LstYear&#x27;,\n",
       "                                                   &#x27;Awards&#x27;]),\n",
       "                                                 (&#x27;be&#x27;, BinaryEncoder(),\n",
       "                                                  [&#x27;Department&#x27;,\n",
       "                                                   &#x27;Region_Employment&#x27;])])),\n",
       "                (&#x27;randomforestclassifier&#x27;,\n",
       "                 RandomForestClassifier(max_depth=8, min_samples_leaf=3,\n",
       "                                        min_samples_split=5,\n",
       "                                        n_estimators=450))])</pre><b>In a Jupyter environment, please rerun this cell to show the HTML representation or trust the notebook. <br />On GitHub, the HTML representation is unable to render, please try loading this page with nbviewer.org.</b></div><div class=\"sk-container\" hidden><div class=\"sk-item sk-dashed-wrapped\"><div class=\"sk-label-container\"><div class=\"sk-label sk-toggleable\"><input class=\"sk-toggleable__control sk-hidden--visually\" id=\"sk-estimator-id-84\" type=\"checkbox\" ><label for=\"sk-estimator-id-84\" class=\"sk-toggleable__label sk-toggleable__label-arrow\">Pipeline</label><div class=\"sk-toggleable__content\"><pre>Pipeline(steps=[(&#x27;columntransformer&#x27;,\n",
       "                 ColumnTransformer(remainder=&#x27;passthrough&#x27;,\n",
       "                                   transformers=[(&#x27;ohe&#x27;,\n",
       "                                                  OneHotEncoder(drop=&#x27;first&#x27;,\n",
       "                                                                sparse=False),\n",
       "                                                  [&#x27;Recruitment Channel&#x27;,\n",
       "                                                   &#x27;Gender&#x27;,\n",
       "                                                   &#x27;NO_Trainings_LstYear&#x27;,\n",
       "                                                   &#x27;Awards&#x27;]),\n",
       "                                                 (&#x27;be&#x27;, BinaryEncoder(),\n",
       "                                                  [&#x27;Department&#x27;,\n",
       "                                                   &#x27;Region_Employment&#x27;])])),\n",
       "                (&#x27;randomforestclassifier&#x27;,\n",
       "                 RandomForestClassifier(max_depth=8, min_samples_leaf=3,\n",
       "                                        min_samples_split=5,\n",
       "                                        n_estimators=450))])</pre></div></div></div><div class=\"sk-serial\"><div class=\"sk-item sk-dashed-wrapped\"><div class=\"sk-label-container\"><div class=\"sk-label sk-toggleable\"><input class=\"sk-toggleable__control sk-hidden--visually\" id=\"sk-estimator-id-85\" type=\"checkbox\" ><label for=\"sk-estimator-id-85\" class=\"sk-toggleable__label sk-toggleable__label-arrow\">columntransformer: ColumnTransformer</label><div class=\"sk-toggleable__content\"><pre>ColumnTransformer(remainder=&#x27;passthrough&#x27;,\n",
       "                  transformers=[(&#x27;ohe&#x27;,\n",
       "                                 OneHotEncoder(drop=&#x27;first&#x27;, sparse=False),\n",
       "                                 [&#x27;Recruitment Channel&#x27;, &#x27;Gender&#x27;,\n",
       "                                  &#x27;NO_Trainings_LstYear&#x27;, &#x27;Awards&#x27;]),\n",
       "                                (&#x27;be&#x27;, BinaryEncoder(),\n",
       "                                 [&#x27;Department&#x27;, &#x27;Region_Employment&#x27;])])</pre></div></div></div><div class=\"sk-parallel\"><div class=\"sk-parallel-item\"><div class=\"sk-item\"><div class=\"sk-label-container\"><div class=\"sk-label sk-toggleable\"><input class=\"sk-toggleable__control sk-hidden--visually\" id=\"sk-estimator-id-86\" type=\"checkbox\" ><label for=\"sk-estimator-id-86\" class=\"sk-toggleable__label sk-toggleable__label-arrow\">ohe</label><div class=\"sk-toggleable__content\"><pre>[&#x27;Recruitment Channel&#x27;, &#x27;Gender&#x27;, &#x27;NO_Trainings_LstYear&#x27;, &#x27;Awards&#x27;]</pre></div></div></div><div class=\"sk-serial\"><div class=\"sk-item\"><div class=\"sk-estimator sk-toggleable\"><input class=\"sk-toggleable__control sk-hidden--visually\" id=\"sk-estimator-id-87\" type=\"checkbox\" ><label for=\"sk-estimator-id-87\" class=\"sk-toggleable__label sk-toggleable__label-arrow\">OneHotEncoder</label><div class=\"sk-toggleable__content\"><pre>OneHotEncoder(drop=&#x27;first&#x27;, sparse=False)</pre></div></div></div></div></div></div><div class=\"sk-parallel-item\"><div class=\"sk-item\"><div class=\"sk-label-container\"><div class=\"sk-label sk-toggleable\"><input class=\"sk-toggleable__control sk-hidden--visually\" id=\"sk-estimator-id-88\" type=\"checkbox\" ><label for=\"sk-estimator-id-88\" class=\"sk-toggleable__label sk-toggleable__label-arrow\">be</label><div class=\"sk-toggleable__content\"><pre>[&#x27;Department&#x27;, &#x27;Region_Employment&#x27;]</pre></div></div></div><div class=\"sk-serial\"><div class=\"sk-item\"><div class=\"sk-estimator sk-toggleable\"><input class=\"sk-toggleable__control sk-hidden--visually\" id=\"sk-estimator-id-89\" type=\"checkbox\" ><label for=\"sk-estimator-id-89\" class=\"sk-toggleable__label sk-toggleable__label-arrow\">BinaryEncoder</label><div class=\"sk-toggleable__content\"><pre>BinaryEncoder()</pre></div></div></div></div></div></div><div class=\"sk-parallel-item\"><div class=\"sk-item\"><div class=\"sk-label-container\"><div class=\"sk-label sk-toggleable\"><input class=\"sk-toggleable__control sk-hidden--visually\" id=\"sk-estimator-id-90\" type=\"checkbox\" ><label for=\"sk-estimator-id-90\" class=\"sk-toggleable__label sk-toggleable__label-arrow\">remainder</label><div class=\"sk-toggleable__content\"><pre>[&#x27;Education Level&#x27;, &#x27;Age&#x27;, &#x27;previous_year_rating&#x27;, &#x27;Service Length&#x27;, &#x27;Avg_Training_Score&#x27;]</pre></div></div></div><div class=\"sk-serial\"><div class=\"sk-item\"><div class=\"sk-estimator sk-toggleable\"><input class=\"sk-toggleable__control sk-hidden--visually\" id=\"sk-estimator-id-91\" type=\"checkbox\" ><label for=\"sk-estimator-id-91\" class=\"sk-toggleable__label sk-toggleable__label-arrow\">passthrough</label><div class=\"sk-toggleable__content\"><pre>passthrough</pre></div></div></div></div></div></div></div></div><div class=\"sk-item\"><div class=\"sk-estimator sk-toggleable\"><input class=\"sk-toggleable__control sk-hidden--visually\" id=\"sk-estimator-id-92\" type=\"checkbox\" ><label for=\"sk-estimator-id-92\" class=\"sk-toggleable__label sk-toggleable__label-arrow\">RandomForestClassifier</label><div class=\"sk-toggleable__content\"><pre>RandomForestClassifier(max_depth=8, min_samples_leaf=3, min_samples_split=5,\n",
       "                       n_estimators=450)</pre></div></div></div></div></div></div></div>"
      ],
      "text/plain": [
       "Pipeline(steps=[('columntransformer',\n",
       "                 ColumnTransformer(remainder='passthrough',\n",
       "                                   transformers=[('ohe',\n",
       "                                                  OneHotEncoder(drop='first',\n",
       "                                                                sparse=False),\n",
       "                                                  ['Recruitment Channel',\n",
       "                                                   'Gender',\n",
       "                                                   'NO_Trainings_LstYear',\n",
       "                                                   'Awards']),\n",
       "                                                 ('be', BinaryEncoder(),\n",
       "                                                  ['Department',\n",
       "                                                   'Region_Employment'])])),\n",
       "                ('randomforestclassifier',\n",
       "                 RandomForestClassifier(max_depth=8, min_samples_leaf=3,\n",
       "                                        min_samples_split=5,\n",
       "                                        n_estimators=450))])"
      ]
     },
     "execution_count": 124,
     "metadata": {},
     "output_type": "execute_result"
    }
   ],
   "source": [
    "RF_RanGrid.best_estimator_"
   ]
  },
  {
   "cell_type": "code",
   "execution_count": 125,
   "id": "6c7de2a7",
   "metadata": {},
   "outputs": [
    {
     "data": {
      "text/plain": [
       "0.7112103890497277"
      ]
     },
     "execution_count": 125,
     "metadata": {},
     "output_type": "execute_result"
    }
   ],
   "source": [
    "RF_RanGrid.best_score_"
   ]
  },
  {
   "cell_type": "code",
   "execution_count": 126,
   "id": "a31a2655",
   "metadata": {},
   "outputs": [
    {
     "data": {
      "text/plain": [
       "0.7421237316244447"
      ]
     },
     "execution_count": 126,
     "metadata": {},
     "output_type": "execute_result"
    }
   ],
   "source": [
    "RF_RanGrid.cv_results_['mean_train_score'].max()"
   ]
  },
  {
   "cell_type": "code",
   "execution_count": 139,
   "id": "e1f59e77",
   "metadata": {},
   "outputs": [
    {
     "data": {
      "text/plain": [
       "<sklearn.metrics._plot.confusion_matrix.ConfusionMatrixDisplay at 0x2a63af67d90>"
      ]
     },
     "execution_count": 139,
     "metadata": {},
     "output_type": "execute_result"
    },
    {
     "data": {
      "image/png": "[encoded data removed]",
      "text/plain": [
       "<Figure size 720x288 with 2 Axes>"
      ]
     },
     "metadata": {},
     "output_type": "display_data"
    }
   ],
   "source": [
    "plot_confusion_matrix(RF_RanGrid.best_estimator_ , x , y)"
   ]
  },
  {
   "cell_type": "code",
   "execution_count": 138,
   "id": "0d7fe3a9",
   "metadata": {},
   "outputs": [
    {
     "data": {
      "text/plain": [
       "0.7981551817688551"
      ]
     },
     "execution_count": 138,
     "metadata": {},
     "output_type": "execute_result"
    }
   ],
   "source": [
    "recall_score(RF_RanGrid.best_estimator_.predict(x) , y)"
   ]
  },
  {
   "cell_type": "code",
   "execution_count": 129,
   "id": "cfdc75a6",
   "metadata": {},
   "outputs": [
    {
     "data": {
      "text/plain": [
       "0.6183026146592371"
      ]
     },
     "execution_count": 129,
     "metadata": {},
     "output_type": "execute_result"
    }
   ],
   "source": [
    "precision_score(RF_RanGrid.best_estimator_.predict(x) , y)"
   ]
  },
  {
   "cell_type": "code",
   "execution_count": 130,
   "id": "9dd02d87",
   "metadata": {},
   "outputs": [
    {
     "data": {
      "text/plain": [
       "0.701093560145808"
      ]
     },
     "execution_count": 130,
     "metadata": {},
     "output_type": "execute_result"
    }
   ],
   "source": [
    "f1_score(RF_RanGrid.best_estimator_.predict(x) , y)"
   ]
  },
  {
   "cell_type": "markdown",
   "id": "3906d869",
   "metadata": {},
   "source": [
    "# `-----------------XGBClassifier For Tunning-----------------`"
   ]
  },
  {
   "cell_type": "code",
   "execution_count": 223,
   "id": "ea9d756c",
   "metadata": {},
   "outputs": [],
   "source": [
    "XGB_params = [\n",
    "    {\n",
    "        'xgbclassifier__max_depth': [4,5,6,7,8],\n",
    "        'xgbclassifier__n_estimators': list(range(100, 500, 20)),\n",
    "    }\n",
    "]"
   ]
  },
  {
   "cell_type": "code",
   "execution_count": 224,
   "id": "ca94e2ba",
   "metadata": {},
   "outputs": [],
   "source": [
    "XGB = make_pipeline(trans,RobustScaler(),SelectFromModel(estimator=XGBClassifier()) ,XGBClassifier())"
   ]
  },
  {
   "cell_type": "code",
   "execution_count": 225,
   "id": "bf963782",
   "metadata": {},
   "outputs": [],
   "source": [
    "XGB_RanGrid = RandomizedSearchCV(estimator=XGB , param_distributions= XGB_params ,\n",
    "                                 scoring='accuracy' , cv = StratifiedKFold(n_splits=5) ,\n",
    "                                 return_train_score=True , n_iter=10 , verbose=True )"
   ]
  },
  {
   "cell_type": "code",
   "execution_count": 256,
   "id": "2c005010",
   "metadata": {},
   "outputs": [
    {
     "name": "stdout",
     "output_type": "stream",
     "text": [
      "Fitting 5 folds for each of 10 candidates, totalling 50 fits\n"
     ]
    },
    {
     "data": {
      "text/html": [
       "<style>#sk-container-id-31 {color: black;background-color: white;}#sk-container-id-31 pre{padding: 0;}#sk-container-id-31 div.sk-toggleable {background-color: white;}#sk-container-id-31 label.sk-toggleable__label {cursor: pointer;display: block;width: 100%;margin-bottom: 0;padding: 0.3em;box-sizing: border-box;text-align: center;}#sk-container-id-31 label.sk-toggleable__label-arrow:before {content: \"▸\";float: left;margin-right: 0.25em;color: #696969;}#sk-container-id-31 label.sk-toggleable__label-arrow:hover:before {color: black;}#sk-container-id-31 div.sk-estimator:hover label.sk-toggleable__label-arrow:before {color: black;}#sk-container-id-31 div.sk-toggleable__content {max-height: 0;max-width: 0;overflow: hidden;text-align: left;background-color: #f0f8ff;}#sk-container-id-31 div.sk-toggleable__content pre {margin: 0.2em;color: black;border-radius: 0.25em;background-color: #f0f8ff;}#sk-container-id-31 input.sk-toggleable__control:checked~div.sk-toggleable__content {max-height: 200px;max-width: 100%;overflow: auto;}#sk-container-id-31 input.sk-toggleable__control:checked~label.sk-toggleable__label-arrow:before {content: \"▾\";}#sk-container-id-31 div.sk-estimator input.sk-toggleable__control:checked~label.sk-toggleable__label {background-color: #d4ebff;}#sk-container-id-31 div.sk-label input.sk-toggleable__control:checked~label.sk-toggleable__label {background-color: #d4ebff;}#sk-container-id-31 input.sk-hidden--visually {border: 0;clip: rect(1px 1px 1px 1px);clip: rect(1px, 1px, 1px, 1px);height: 1px;margin: -1px;overflow: hidden;padding: 0;position: absolute;width: 1px;}#sk-container-id-31 div.sk-estimator {font-family: monospace;background-color: #f0f8ff;border: 1px dotted black;border-radius: 0.25em;box-sizing: border-box;margin-bottom: 0.5em;}#sk-container-id-31 div.sk-estimator:hover {background-color: #d4ebff;}#sk-container-id-31 div.sk-parallel-item::after {content: \"\";width: 100%;border-bottom: 1px solid gray;flex-grow: 1;}#sk-container-id-31 div.sk-label:hover label.sk-toggleable__label {background-color: #d4ebff;}#sk-container-id-31 div.sk-serial::before {content: \"\";position: absolute;border-left: 1px solid gray;box-sizing: border-box;top: 0;bottom: 0;left: 50%;z-index: 0;}#sk-container-id-31 div.sk-serial {display: flex;flex-direction: column;align-items: center;background-color: white;padding-right: 0.2em;padding-left: 0.2em;position: relative;}#sk-container-id-31 div.sk-item {position: relative;z-index: 1;}#sk-container-id-31 div.sk-parallel {display: flex;align-items: stretch;justify-content: center;background-color: white;position: relative;}#sk-container-id-31 div.sk-item::before, #sk-container-id-31 div.sk-parallel-item::before {content: \"\";position: absolute;border-left: 1px solid gray;box-sizing: border-box;top: 0;bottom: 0;left: 50%;z-index: -1;}#sk-container-id-31 div.sk-parallel-item {display: flex;flex-direction: column;z-index: 1;position: relative;background-color: white;}#sk-container-id-31 div.sk-parallel-item:first-child::after {align-self: flex-end;width: 50%;}#sk-container-id-31 div.sk-parallel-item:last-child::after {align-self: flex-start;width: 50%;}#sk-container-id-31 div.sk-parallel-item:only-child::after {width: 0;}#sk-container-id-31 div.sk-dashed-wrapped {border: 1px dashed gray;margin: 0 0.4em 0.5em 0.4em;box-sizing: border-box;padding-bottom: 0.4em;background-color: white;}#sk-container-id-31 div.sk-label label {font-family: monospace;font-weight: bold;display: inline-block;line-height: 1.2em;}#sk-container-id-31 div.sk-label-container {text-align: center;}#sk-container-id-31 div.sk-container {/* jupyter's `normalize.less` sets `[hidden] { display: none; }` but bootstrap.min.css set `[hidden] { display: none !important; }` so we also need the `!important` here to be able to override the default hidden behavior on the sphinx rendered scikit-learn.org. See: https://github.com/scikit-learn/scikit-learn/issues/21755 */display: inline-block !important;position: relative;}#sk-container-id-31 div.sk-text-repr-fallback {display: none;}</style><div id=\"sk-container-id-31\" class=\"sk-top-container\"><div class=\"sk-text-repr-fallback\"><pre>RandomizedSearchCV(cv=StratifiedKFold(n_splits=5, random_state=None, shuffle=False),\n",
       "                   estimator=Pipeline(steps=[(&#x27;columntransformer&#x27;,\n",
       "                                              ColumnTransformer(remainder=&#x27;passthrough&#x27;,\n",
       "                                                                transformers=[(&#x27;ohe&#x27;,\n",
       "                                                                               OneHotEncoder(drop=&#x27;first&#x27;,\n",
       "                                                                                             sparse=False),\n",
       "                                                                               [&#x27;Recruitment &#x27;\n",
       "                                                                                &#x27;Channel&#x27;,\n",
       "                                                                                &#x27;Gender&#x27;,\n",
       "                                                                                &#x27;NO_Trainings_LstYear&#x27;,\n",
       "                                                                                &#x27;Awards&#x27;]),\n",
       "                                                                              (&#x27;be&#x27;,\n",
       "                                                                               BinaryEncoder(),\n",
       "                                                                               [&#x27;Department&#x27;,\n",
       "                                                                                &#x27;Region_Employ...\n",
       "                                                            n_estimators=100,\n",
       "                                                            n_jobs=None,\n",
       "                                                            num_parallel_tree=None,\n",
       "                                                            predictor=None,\n",
       "                                                            random_state=None,\n",
       "                                                            reg_alpha=None,\n",
       "                                                            reg_lambda=None, ...))]),\n",
       "                   param_distributions=[{&#x27;xgbclassifier__max_depth&#x27;: [4, 5, 6,\n",
       "                                                                      7, 8],\n",
       "                                         &#x27;xgbclassifier__n_estimators&#x27;: [100,\n",
       "                                                                         120,\n",
       "                                                                         140,\n",
       "                                                                         160,\n",
       "                                                                         180,\n",
       "                                                                         200,\n",
       "                                                                         220,\n",
       "                                                                         240,\n",
       "                                                                         260,\n",
       "                                                                         280,\n",
       "                                                                         300,\n",
       "                                                                         320,\n",
       "                                                                         340,\n",
       "                                                                         360,\n",
       "                                                                         380,\n",
       "                                                                         400,\n",
       "                                                                         420,\n",
       "                                                                         440,\n",
       "                                                                         460,\n",
       "                                                                         480]}],\n",
       "                   return_train_score=True, scoring=&#x27;accuracy&#x27;, verbose=True)</pre><b>In a Jupyter environment, please rerun this cell to show the HTML representation or trust the notebook. <br />On GitHub, the HTML representation is unable to render, please try loading this page with nbviewer.org.</b></div><div class=\"sk-container\" hidden><div class=\"sk-item sk-dashed-wrapped\"><div class=\"sk-label-container\"><div class=\"sk-label sk-toggleable\"><input class=\"sk-toggleable__control sk-hidden--visually\" id=\"sk-estimator-id-327\" type=\"checkbox\" ><label for=\"sk-estimator-id-327\" class=\"sk-toggleable__label sk-toggleable__label-arrow\">RandomizedSearchCV</label><div class=\"sk-toggleable__content\"><pre>RandomizedSearchCV(cv=StratifiedKFold(n_splits=5, random_state=None, shuffle=False),\n",
       "                   estimator=Pipeline(steps=[(&#x27;columntransformer&#x27;,\n",
       "                                              ColumnTransformer(remainder=&#x27;passthrough&#x27;,\n",
       "                                                                transformers=[(&#x27;ohe&#x27;,\n",
       "                                                                               OneHotEncoder(drop=&#x27;first&#x27;,\n",
       "                                                                                             sparse=False),\n",
       "                                                                               [&#x27;Recruitment &#x27;\n",
       "                                                                                &#x27;Channel&#x27;,\n",
       "                                                                                &#x27;Gender&#x27;,\n",
       "                                                                                &#x27;NO_Trainings_LstYear&#x27;,\n",
       "                                                                                &#x27;Awards&#x27;]),\n",
       "                                                                              (&#x27;be&#x27;,\n",
       "                                                                               BinaryEncoder(),\n",
       "                                                                               [&#x27;Department&#x27;,\n",
       "                                                                                &#x27;Region_Employ...\n",
       "                                                            n_estimators=100,\n",
       "                                                            n_jobs=None,\n",
       "                                                            num_parallel_tree=None,\n",
       "                                                            predictor=None,\n",
       "                                                            random_state=None,\n",
       "                                                            reg_alpha=None,\n",
       "                                                            reg_lambda=None, ...))]),\n",
       "                   param_distributions=[{&#x27;xgbclassifier__max_depth&#x27;: [4, 5, 6,\n",
       "                                                                      7, 8],\n",
       "                                         &#x27;xgbclassifier__n_estimators&#x27;: [100,\n",
       "                                                                         120,\n",
       "                                                                         140,\n",
       "                                                                         160,\n",
       "                                                                         180,\n",
       "                                                                         200,\n",
       "                                                                         220,\n",
       "                                                                         240,\n",
       "                                                                         260,\n",
       "                                                                         280,\n",
       "                                                                         300,\n",
       "                                                                         320,\n",
       "                                                                         340,\n",
       "                                                                         360,\n",
       "                                                                         380,\n",
       "                                                                         400,\n",
       "                                                                         420,\n",
       "                                                                         440,\n",
       "                                                                         460,\n",
       "                                                                         480]}],\n",
       "                   return_train_score=True, scoring=&#x27;accuracy&#x27;, verbose=True)</pre></div></div></div><div class=\"sk-parallel\"><div class=\"sk-parallel-item\"><div class=\"sk-item\"><div class=\"sk-label-container\"><div class=\"sk-label sk-toggleable\"><input class=\"sk-toggleable__control sk-hidden--visually\" id=\"sk-estimator-id-328\" type=\"checkbox\" ><label for=\"sk-estimator-id-328\" class=\"sk-toggleable__label sk-toggleable__label-arrow\">estimator: Pipeline</label><div class=\"sk-toggleable__content\"><pre>Pipeline(steps=[(&#x27;columntransformer&#x27;,\n",
       "                 ColumnTransformer(remainder=&#x27;passthrough&#x27;,\n",
       "                                   transformers=[(&#x27;ohe&#x27;,\n",
       "                                                  OneHotEncoder(drop=&#x27;first&#x27;,\n",
       "                                                                sparse=False),\n",
       "                                                  [&#x27;Recruitment Channel&#x27;,\n",
       "                                                   &#x27;Gender&#x27;,\n",
       "                                                   &#x27;NO_Trainings_LstYear&#x27;,\n",
       "                                                   &#x27;Awards&#x27;]),\n",
       "                                                 (&#x27;be&#x27;, BinaryEncoder(),\n",
       "                                                  [&#x27;Department&#x27;,\n",
       "                                                   &#x27;Region_Employment&#x27;])])),\n",
       "                (&#x27;robustscaler&#x27;, RobustScaler()),\n",
       "                (&#x27;selectfrommodel&#x27;,\n",
       "                 SelectFromModel(estimator=XGBCla...\n",
       "                               gamma=None, gpu_id=None, grow_policy=None,\n",
       "                               importance_type=None,\n",
       "                               interaction_constraints=None, learning_rate=None,\n",
       "                               max_bin=None, max_cat_to_onehot=None,\n",
       "                               max_delta_step=None, max_depth=None,\n",
       "                               max_leaves=None, min_child_weight=None,\n",
       "                               missing=nan, monotone_constraints=None,\n",
       "                               n_estimators=100, n_jobs=None,\n",
       "                               num_parallel_tree=None, predictor=None,\n",
       "                               random_state=None, reg_alpha=None,\n",
       "                               reg_lambda=None, ...))])</pre></div></div></div><div class=\"sk-serial\"><div class=\"sk-item\"><div class=\"sk-serial\"><div class=\"sk-item sk-dashed-wrapped\"><div class=\"sk-label-container\"><div class=\"sk-label sk-toggleable\"><input class=\"sk-toggleable__control sk-hidden--visually\" id=\"sk-estimator-id-329\" type=\"checkbox\" ><label for=\"sk-estimator-id-329\" class=\"sk-toggleable__label sk-toggleable__label-arrow\">columntransformer: ColumnTransformer</label><div class=\"sk-toggleable__content\"><pre>ColumnTransformer(remainder=&#x27;passthrough&#x27;,\n",
       "                  transformers=[(&#x27;ohe&#x27;,\n",
       "                                 OneHotEncoder(drop=&#x27;first&#x27;, sparse=False),\n",
       "                                 [&#x27;Recruitment Channel&#x27;, &#x27;Gender&#x27;,\n",
       "                                  &#x27;NO_Trainings_LstYear&#x27;, &#x27;Awards&#x27;]),\n",
       "                                (&#x27;be&#x27;, BinaryEncoder(),\n",
       "                                 [&#x27;Department&#x27;, &#x27;Region_Employment&#x27;])])</pre></div></div></div><div class=\"sk-parallel\"><div class=\"sk-parallel-item\"><div class=\"sk-item\"><div class=\"sk-label-container\"><div class=\"sk-label sk-toggleable\"><input class=\"sk-toggleable__control sk-hidden--visually\" id=\"sk-estimator-id-330\" type=\"checkbox\" ><label for=\"sk-estimator-id-330\" class=\"sk-toggleable__label sk-toggleable__label-arrow\">ohe</label><div class=\"sk-toggleable__content\"><pre>[&#x27;Recruitment Channel&#x27;, &#x27;Gender&#x27;, &#x27;NO_Trainings_LstYear&#x27;, &#x27;Awards&#x27;]</pre></div></div></div><div class=\"sk-serial\"><div class=\"sk-item\"><div class=\"sk-estimator sk-toggleable\"><input class=\"sk-toggleable__control sk-hidden--visually\" id=\"sk-estimator-id-331\" type=\"checkbox\" ><label for=\"sk-estimator-id-331\" class=\"sk-toggleable__label sk-toggleable__label-arrow\">OneHotEncoder</label><div class=\"sk-toggleable__content\"><pre>OneHotEncoder(drop=&#x27;first&#x27;, sparse=False)</pre></div></div></div></div></div></div><div class=\"sk-parallel-item\"><div class=\"sk-item\"><div class=\"sk-label-container\"><div class=\"sk-label sk-toggleable\"><input class=\"sk-toggleable__control sk-hidden--visually\" id=\"sk-estimator-id-332\" type=\"checkbox\" ><label for=\"sk-estimator-id-332\" class=\"sk-toggleable__label sk-toggleable__label-arrow\">be</label><div class=\"sk-toggleable__content\"><pre>[&#x27;Department&#x27;, &#x27;Region_Employment&#x27;]</pre></div></div></div><div class=\"sk-serial\"><div class=\"sk-item\"><div class=\"sk-estimator sk-toggleable\"><input class=\"sk-toggleable__control sk-hidden--visually\" id=\"sk-estimator-id-333\" type=\"checkbox\" ><label for=\"sk-estimator-id-333\" class=\"sk-toggleable__label sk-toggleable__label-arrow\">BinaryEncoder</label><div class=\"sk-toggleable__content\"><pre>BinaryEncoder()</pre></div></div></div></div></div></div><div class=\"sk-parallel-item\"><div class=\"sk-item\"><div class=\"sk-label-container\"><div class=\"sk-label sk-toggleable\"><input class=\"sk-toggleable__control sk-hidden--visually\" id=\"sk-estimator-id-334\" type=\"checkbox\" ><label for=\"sk-estimator-id-334\" class=\"sk-toggleable__label sk-toggleable__label-arrow\">remainder</label><div class=\"sk-toggleable__content\"><pre></pre></div></div></div><div class=\"sk-serial\"><div class=\"sk-item\"><div class=\"sk-estimator sk-toggleable\"><input class=\"sk-toggleable__control sk-hidden--visually\" id=\"sk-estimator-id-335\" type=\"checkbox\" ><label for=\"sk-estimator-id-335\" class=\"sk-toggleable__label sk-toggleable__label-arrow\">passthrough</label><div class=\"sk-toggleable__content\"><pre>passthrough</pre></div></div></div></div></div></div></div></div><div class=\"sk-item\"><div class=\"sk-estimator sk-toggleable\"><input class=\"sk-toggleable__control sk-hidden--visually\" id=\"sk-estimator-id-336\" type=\"checkbox\" ><label for=\"sk-estimator-id-336\" class=\"sk-toggleable__label sk-toggleable__label-arrow\">RobustScaler</label><div class=\"sk-toggleable__content\"><pre>RobustScaler()</pre></div></div></div><div class=\"sk-item sk-dashed-wrapped\"><div class=\"sk-label-container\"><div class=\"sk-label sk-toggleable\"><input class=\"sk-toggleable__control sk-hidden--visually\" id=\"sk-estimator-id-337\" type=\"checkbox\" ><label for=\"sk-estimator-id-337\" class=\"sk-toggleable__label sk-toggleable__label-arrow\">selectfrommodel: SelectFromModel</label><div class=\"sk-toggleable__content\"><pre>SelectFromModel(estimator=XGBClassifier(base_score=None, booster=None,\n",
       "                                        callbacks=None, colsample_bylevel=None,\n",
       "                                        colsample_bynode=None,\n",
       "                                        colsample_bytree=None,\n",
       "                                        early_stopping_rounds=None,\n",
       "                                        enable_categorical=False,\n",
       "                                        eval_metric=None, gamma=None,\n",
       "                                        gpu_id=None, grow_policy=None,\n",
       "                                        importance_type=None,\n",
       "                                        interaction_constraints=None,\n",
       "                                        learning_rate=None, max_bin=None,\n",
       "                                        max_cat_to_onehot=None,\n",
       "                                        max_delta_step=None, max_depth=None,\n",
       "                                        max_leaves=None, min_child_weight=None,\n",
       "                                        missing=nan, monotone_constraints=None,\n",
       "                                        n_estimators=100, n_jobs=None,\n",
       "                                        num_parallel_tree=None, predictor=None,\n",
       "                                        random_state=None, reg_alpha=None,\n",
       "                                        reg_lambda=None, ...))</pre></div></div></div><div class=\"sk-parallel\"><div class=\"sk-parallel-item\"><div class=\"sk-item\"><div class=\"sk-label-container\"><div class=\"sk-label sk-toggleable\"><input class=\"sk-toggleable__control sk-hidden--visually\" id=\"sk-estimator-id-338\" type=\"checkbox\" ><label for=\"sk-estimator-id-338\" class=\"sk-toggleable__label sk-toggleable__label-arrow\">estimator: XGBClassifier</label><div class=\"sk-toggleable__content\"><pre>XGBClassifier(base_score=None, booster=None, callbacks=None,\n",
       "              colsample_bylevel=None, colsample_bynode=None,\n",
       "              colsample_bytree=None, early_stopping_rounds=None,\n",
       "              enable_categorical=False, eval_metric=None, gamma=None,\n",
       "              gpu_id=None, grow_policy=None, importance_type=None,\n",
       "              interaction_constraints=None, learning_rate=None, max_bin=None,\n",
       "              max_cat_to_onehot=None, max_delta_step=None, max_depth=None,\n",
       "              max_leaves=None, min_child_weight=None, missing=nan,\n",
       "              monotone_constraints=None, n_estimators=100, n_jobs=None,\n",
       "              num_parallel_tree=None, predictor=None, random_state=None,\n",
       "              reg_alpha=None, reg_lambda=None, ...)</pre></div></div></div><div class=\"sk-serial\"><div class=\"sk-item\"><div class=\"sk-estimator sk-toggleable\"><input class=\"sk-toggleable__control sk-hidden--visually\" id=\"sk-estimator-id-339\" type=\"checkbox\" ><label for=\"sk-estimator-id-339\" class=\"sk-toggleable__label sk-toggleable__label-arrow\">XGBClassifier</label><div class=\"sk-toggleable__content\"><pre>XGBClassifier(base_score=None, booster=None, callbacks=None,\n",
       "              colsample_bylevel=None, colsample_bynode=None,\n",
       "              colsample_bytree=None, early_stopping_rounds=None,\n",
       "              enable_categorical=False, eval_metric=None, gamma=None,\n",
       "              gpu_id=None, grow_policy=None, importance_type=None,\n",
       "              interaction_constraints=None, learning_rate=None, max_bin=None,\n",
       "              max_cat_to_onehot=None, max_delta_step=None, max_depth=None,\n",
       "              max_leaves=None, min_child_weight=None, missing=nan,\n",
       "              monotone_constraints=None, n_estimators=100, n_jobs=None,\n",
       "              num_parallel_tree=None, predictor=None, random_state=None,\n",
       "              reg_alpha=None, reg_lambda=None, ...)</pre></div></div></div></div></div></div></div></div><div class=\"sk-item\"><div class=\"sk-estimator sk-toggleable\"><input class=\"sk-toggleable__control sk-hidden--visually\" id=\"sk-estimator-id-340\" type=\"checkbox\" ><label for=\"sk-estimator-id-340\" class=\"sk-toggleable__label sk-toggleable__label-arrow\">XGBClassifier</label><div class=\"sk-toggleable__content\"><pre>XGBClassifier(base_score=None, booster=None, callbacks=None,\n",
       "              colsample_bylevel=None, colsample_bynode=None,\n",
       "              colsample_bytree=None, early_stopping_rounds=None,\n",
       "              enable_categorical=False, eval_metric=None, gamma=None,\n",
       "              gpu_id=None, grow_policy=None, importance_type=None,\n",
       "              interaction_constraints=None, learning_rate=None, max_bin=None,\n",
       "              max_cat_to_onehot=None, max_delta_step=None, max_depth=None,\n",
       "              max_leaves=None, min_child_weight=None, missing=nan,\n",
       "              monotone_constraints=None, n_estimators=100, n_jobs=None,\n",
       "              num_parallel_tree=None, predictor=None, random_state=None,\n",
       "              reg_alpha=None, reg_lambda=None, ...)</pre></div></div></div></div></div></div></div></div></div></div></div></div>"
      ],
      "text/plain": [
       "RandomizedSearchCV(cv=StratifiedKFold(n_splits=5, random_state=None, shuffle=False),\n",
       "                   estimator=Pipeline(steps=[('columntransformer',\n",
       "                                              ColumnTransformer(remainder='passthrough',\n",
       "                                                                transformers=[('ohe',\n",
       "                                                                               OneHotEncoder(drop='first',\n",
       "                                                                                             sparse=False),\n",
       "                                                                               ['Recruitment '\n",
       "                                                                                'Channel',\n",
       "                                                                                'Gender',\n",
       "                                                                                'NO_Trainings_LstYear',\n",
       "                                                                                'Awards']),\n",
       "                                                                              ('be',\n",
       "                                                                               BinaryEncoder(),\n",
       "                                                                               ['Department',\n",
       "                                                                                'Region_Employ...\n",
       "                                                            n_estimators=100,\n",
       "                                                            n_jobs=None,\n",
       "                                                            num_parallel_tree=None,\n",
       "                                                            predictor=None,\n",
       "                                                            random_state=None,\n",
       "                                                            reg_alpha=None,\n",
       "                                                            reg_lambda=None, ...))]),\n",
       "                   param_distributions=[{'xgbclassifier__max_depth': [4, 5, 6,\n",
       "                                                                      7, 8],\n",
       "                                         'xgbclassifier__n_estimators': [100,\n",
       "                                                                         120,\n",
       "                                                                         140,\n",
       "                                                                         160,\n",
       "                                                                         180,\n",
       "                                                                         200,\n",
       "                                                                         220,\n",
       "                                                                         240,\n",
       "                                                                         260,\n",
       "                                                                         280,\n",
       "                                                                         300,\n",
       "                                                                         320,\n",
       "                                                                         340,\n",
       "                                                                         360,\n",
       "                                                                         380,\n",
       "                                                                         400,\n",
       "                                                                         420,\n",
       "                                                                         440,\n",
       "                                                                         460,\n",
       "                                                                         480]}],\n",
       "                   return_train_score=True, scoring='accuracy', verbose=True)"
      ]
     },
     "execution_count": 256,
     "metadata": {},
     "output_type": "execute_result"
    }
   ],
   "source": [
    "XGB_RanGrid.fit(x , y)"
   ]
  },
  {
   "cell_type": "code",
   "execution_count": 257,
   "id": "354ea824",
   "metadata": {},
   "outputs": [
    {
     "data": {
      "text/html": [
       "<style>#sk-container-id-32 {color: black;background-color: white;}#sk-container-id-32 pre{padding: 0;}#sk-container-id-32 div.sk-toggleable {background-color: white;}#sk-container-id-32 label.sk-toggleable__label {cursor: pointer;display: block;width: 100%;margin-bottom: 0;padding: 0.3em;box-sizing: border-box;text-align: center;}#sk-container-id-32 label.sk-toggleable__label-arrow:before {content: \"▸\";float: left;margin-right: 0.25em;color: #696969;}#sk-container-id-32 label.sk-toggleable__label-arrow:hover:before {color: black;}#sk-container-id-32 div.sk-estimator:hover label.sk-toggleable__label-arrow:before {color: black;}#sk-container-id-32 div.sk-toggleable__content {max-height: 0;max-width: 0;overflow: hidden;text-align: left;background-color: #f0f8ff;}#sk-container-id-32 div.sk-toggleable__content pre {margin: 0.2em;color: black;border-radius: 0.25em;background-color: #f0f8ff;}#sk-container-id-32 input.sk-toggleable__control:checked~div.sk-toggleable__content {max-height: 200px;max-width: 100%;overflow: auto;}#sk-container-id-32 input.sk-toggleable__control:checked~label.sk-toggleable__label-arrow:before {content: \"▾\";}#sk-container-id-32 div.sk-estimator input.sk-toggleable__control:checked~label.sk-toggleable__label {background-color: #d4ebff;}#sk-container-id-32 div.sk-label input.sk-toggleable__control:checked~label.sk-toggleable__label {background-color: #d4ebff;}#sk-container-id-32 input.sk-hidden--visually {border: 0;clip: rect(1px 1px 1px 1px);clip: rect(1px, 1px, 1px, 1px);height: 1px;margin: -1px;overflow: hidden;padding: 0;position: absolute;width: 1px;}#sk-container-id-32 div.sk-estimator {font-family: monospace;background-color: #f0f8ff;border: 1px dotted black;border-radius: 0.25em;box-sizing: border-box;margin-bottom: 0.5em;}#sk-container-id-32 div.sk-estimator:hover {background-color: #d4ebff;}#sk-container-id-32 div.sk-parallel-item::after {content: \"\";width: 100%;border-bottom: 1px solid gray;flex-grow: 1;}#sk-container-id-32 div.sk-label:hover label.sk-toggleable__label {background-color: #d4ebff;}#sk-container-id-32 div.sk-serial::before {content: \"\";position: absolute;border-left: 1px solid gray;box-sizing: border-box;top: 0;bottom: 0;left: 50%;z-index: 0;}#sk-container-id-32 div.sk-serial {display: flex;flex-direction: column;align-items: center;background-color: white;padding-right: 0.2em;padding-left: 0.2em;position: relative;}#sk-container-id-32 div.sk-item {position: relative;z-index: 1;}#sk-container-id-32 div.sk-parallel {display: flex;align-items: stretch;justify-content: center;background-color: white;position: relative;}#sk-container-id-32 div.sk-item::before, #sk-container-id-32 div.sk-parallel-item::before {content: \"\";position: absolute;border-left: 1px solid gray;box-sizing: border-box;top: 0;bottom: 0;left: 50%;z-index: -1;}#sk-container-id-32 div.sk-parallel-item {display: flex;flex-direction: column;z-index: 1;position: relative;background-color: white;}#sk-container-id-32 div.sk-parallel-item:first-child::after {align-self: flex-end;width: 50%;}#sk-container-id-32 div.sk-parallel-item:last-child::after {align-self: flex-start;width: 50%;}#sk-container-id-32 div.sk-parallel-item:only-child::after {width: 0;}#sk-container-id-32 div.sk-dashed-wrapped {border: 1px dashed gray;margin: 0 0.4em 0.5em 0.4em;box-sizing: border-box;padding-bottom: 0.4em;background-color: white;}#sk-container-id-32 div.sk-label label {font-family: monospace;font-weight: bold;display: inline-block;line-height: 1.2em;}#sk-container-id-32 div.sk-label-container {text-align: center;}#sk-container-id-32 div.sk-container {/* jupyter's `normalize.less` sets `[hidden] { display: none; }` but bootstrap.min.css set `[hidden] { display: none !important; }` so we also need the `!important` here to be able to override the default hidden behavior on the sphinx rendered scikit-learn.org. See: https://github.com/scikit-learn/scikit-learn/issues/21755 */display: inline-block !important;position: relative;}#sk-container-id-32 div.sk-text-repr-fallback {display: none;}</style><div id=\"sk-container-id-32\" class=\"sk-top-container\"><div class=\"sk-text-repr-fallback\"><pre>Pipeline(steps=[(&#x27;columntransformer&#x27;,\n",
       "                 ColumnTransformer(remainder=&#x27;passthrough&#x27;,\n",
       "                                   transformers=[(&#x27;ohe&#x27;,\n",
       "                                                  OneHotEncoder(drop=&#x27;first&#x27;,\n",
       "                                                                sparse=False),\n",
       "                                                  [&#x27;Recruitment Channel&#x27;,\n",
       "                                                   &#x27;Gender&#x27;,\n",
       "                                                   &#x27;NO_Trainings_LstYear&#x27;,\n",
       "                                                   &#x27;Awards&#x27;]),\n",
       "                                                 (&#x27;be&#x27;, BinaryEncoder(),\n",
       "                                                  [&#x27;Department&#x27;,\n",
       "                                                   &#x27;Region_Employment&#x27;])])),\n",
       "                (&#x27;robustscaler&#x27;, RobustScaler()),\n",
       "                (&#x27;selectfrommodel&#x27;,\n",
       "                 SelectFromModel(estimator=XGBCla...\n",
       "                               gamma=0, gpu_id=-1, grow_policy=&#x27;depthwise&#x27;,\n",
       "                               importance_type=None, interaction_constraints=&#x27;&#x27;,\n",
       "                               learning_rate=0.300000012, max_bin=256,\n",
       "                               max_cat_to_onehot=4, max_delta_step=0,\n",
       "                               max_depth=4, max_leaves=0, min_child_weight=1,\n",
       "                               missing=nan, monotone_constraints=&#x27;()&#x27;,\n",
       "                               n_estimators=380, n_jobs=0, num_parallel_tree=1,\n",
       "                               predictor=&#x27;auto&#x27;, random_state=0, reg_alpha=0,\n",
       "                               reg_lambda=1, ...))])</pre><b>In a Jupyter environment, please rerun this cell to show the HTML representation or trust the notebook. <br />On GitHub, the HTML representation is unable to render, please try loading this page with nbviewer.org.</b></div><div class=\"sk-container\" hidden><div class=\"sk-item sk-dashed-wrapped\"><div class=\"sk-label-container\"><div class=\"sk-label sk-toggleable\"><input class=\"sk-toggleable__control sk-hidden--visually\" id=\"sk-estimator-id-341\" type=\"checkbox\" ><label for=\"sk-estimator-id-341\" class=\"sk-toggleable__label sk-toggleable__label-arrow\">Pipeline</label><div class=\"sk-toggleable__content\"><pre>Pipeline(steps=[(&#x27;columntransformer&#x27;,\n",
       "                 ColumnTransformer(remainder=&#x27;passthrough&#x27;,\n",
       "                                   transformers=[(&#x27;ohe&#x27;,\n",
       "                                                  OneHotEncoder(drop=&#x27;first&#x27;,\n",
       "                                                                sparse=False),\n",
       "                                                  [&#x27;Recruitment Channel&#x27;,\n",
       "                                                   &#x27;Gender&#x27;,\n",
       "                                                   &#x27;NO_Trainings_LstYear&#x27;,\n",
       "                                                   &#x27;Awards&#x27;]),\n",
       "                                                 (&#x27;be&#x27;, BinaryEncoder(),\n",
       "                                                  [&#x27;Department&#x27;,\n",
       "                                                   &#x27;Region_Employment&#x27;])])),\n",
       "                (&#x27;robustscaler&#x27;, RobustScaler()),\n",
       "                (&#x27;selectfrommodel&#x27;,\n",
       "                 SelectFromModel(estimator=XGBCla...\n",
       "                               gamma=0, gpu_id=-1, grow_policy=&#x27;depthwise&#x27;,\n",
       "                               importance_type=None, interaction_constraints=&#x27;&#x27;,\n",
       "                               learning_rate=0.300000012, max_bin=256,\n",
       "                               max_cat_to_onehot=4, max_delta_step=0,\n",
       "                               max_depth=4, max_leaves=0, min_child_weight=1,\n",
       "                               missing=nan, monotone_constraints=&#x27;()&#x27;,\n",
       "                               n_estimators=380, n_jobs=0, num_parallel_tree=1,\n",
       "                               predictor=&#x27;auto&#x27;, random_state=0, reg_alpha=0,\n",
       "                               reg_lambda=1, ...))])</pre></div></div></div><div class=\"sk-serial\"><div class=\"sk-item sk-dashed-wrapped\"><div class=\"sk-label-container\"><div class=\"sk-label sk-toggleable\"><input class=\"sk-toggleable__control sk-hidden--visually\" id=\"sk-estimator-id-342\" type=\"checkbox\" ><label for=\"sk-estimator-id-342\" class=\"sk-toggleable__label sk-toggleable__label-arrow\">columntransformer: ColumnTransformer</label><div class=\"sk-toggleable__content\"><pre>ColumnTransformer(remainder=&#x27;passthrough&#x27;,\n",
       "                  transformers=[(&#x27;ohe&#x27;,\n",
       "                                 OneHotEncoder(drop=&#x27;first&#x27;, sparse=False),\n",
       "                                 [&#x27;Recruitment Channel&#x27;, &#x27;Gender&#x27;,\n",
       "                                  &#x27;NO_Trainings_LstYear&#x27;, &#x27;Awards&#x27;]),\n",
       "                                (&#x27;be&#x27;, BinaryEncoder(),\n",
       "                                 [&#x27;Department&#x27;, &#x27;Region_Employment&#x27;])])</pre></div></div></div><div class=\"sk-parallel\"><div class=\"sk-parallel-item\"><div class=\"sk-item\"><div class=\"sk-label-container\"><div class=\"sk-label sk-toggleable\"><input class=\"sk-toggleable__control sk-hidden--visually\" id=\"sk-estimator-id-343\" type=\"checkbox\" ><label for=\"sk-estimator-id-343\" class=\"sk-toggleable__label sk-toggleable__label-arrow\">ohe</label><div class=\"sk-toggleable__content\"><pre>[&#x27;Recruitment Channel&#x27;, &#x27;Gender&#x27;, &#x27;NO_Trainings_LstYear&#x27;, &#x27;Awards&#x27;]</pre></div></div></div><div class=\"sk-serial\"><div class=\"sk-item\"><div class=\"sk-estimator sk-toggleable\"><input class=\"sk-toggleable__control sk-hidden--visually\" id=\"sk-estimator-id-344\" type=\"checkbox\" ><label for=\"sk-estimator-id-344\" class=\"sk-toggleable__label sk-toggleable__label-arrow\">OneHotEncoder</label><div class=\"sk-toggleable__content\"><pre>OneHotEncoder(drop=&#x27;first&#x27;, sparse=False)</pre></div></div></div></div></div></div><div class=\"sk-parallel-item\"><div class=\"sk-item\"><div class=\"sk-label-container\"><div class=\"sk-label sk-toggleable\"><input class=\"sk-toggleable__control sk-hidden--visually\" id=\"sk-estimator-id-345\" type=\"checkbox\" ><label for=\"sk-estimator-id-345\" class=\"sk-toggleable__label sk-toggleable__label-arrow\">be</label><div class=\"sk-toggleable__content\"><pre>[&#x27;Department&#x27;, &#x27;Region_Employment&#x27;]</pre></div></div></div><div class=\"sk-serial\"><div class=\"sk-item\"><div class=\"sk-estimator sk-toggleable\"><input class=\"sk-toggleable__control sk-hidden--visually\" id=\"sk-estimator-id-346\" type=\"checkbox\" ><label for=\"sk-estimator-id-346\" class=\"sk-toggleable__label sk-toggleable__label-arrow\">BinaryEncoder</label><div class=\"sk-toggleable__content\"><pre>BinaryEncoder()</pre></div></div></div></div></div></div><div class=\"sk-parallel-item\"><div class=\"sk-item\"><div class=\"sk-label-container\"><div class=\"sk-label sk-toggleable\"><input class=\"sk-toggleable__control sk-hidden--visually\" id=\"sk-estimator-id-347\" type=\"checkbox\" ><label for=\"sk-estimator-id-347\" class=\"sk-toggleable__label sk-toggleable__label-arrow\">remainder</label><div class=\"sk-toggleable__content\"><pre>[&#x27;Education Level&#x27;, &#x27;Age&#x27;, &#x27;previous_year_rating&#x27;, &#x27;Service Length&#x27;, &#x27;Avg_Training_Score&#x27;]</pre></div></div></div><div class=\"sk-serial\"><div class=\"sk-item\"><div class=\"sk-estimator sk-toggleable\"><input class=\"sk-toggleable__control sk-hidden--visually\" id=\"sk-estimator-id-348\" type=\"checkbox\" ><label for=\"sk-estimator-id-348\" class=\"sk-toggleable__label sk-toggleable__label-arrow\">passthrough</label><div class=\"sk-toggleable__content\"><pre>passthrough</pre></div></div></div></div></div></div></div></div><div class=\"sk-item\"><div class=\"sk-estimator sk-toggleable\"><input class=\"sk-toggleable__control sk-hidden--visually\" id=\"sk-estimator-id-349\" type=\"checkbox\" ><label for=\"sk-estimator-id-349\" class=\"sk-toggleable__label sk-toggleable__label-arrow\">RobustScaler</label><div class=\"sk-toggleable__content\"><pre>RobustScaler()</pre></div></div></div><div class=\"sk-item sk-dashed-wrapped\"><div class=\"sk-label-container\"><div class=\"sk-label sk-toggleable\"><input class=\"sk-toggleable__control sk-hidden--visually\" id=\"sk-estimator-id-350\" type=\"checkbox\" ><label for=\"sk-estimator-id-350\" class=\"sk-toggleable__label sk-toggleable__label-arrow\">selectfrommodel: SelectFromModel</label><div class=\"sk-toggleable__content\"><pre>SelectFromModel(estimator=XGBClassifier(base_score=None, booster=None,\n",
       "                                        callbacks=None, colsample_bylevel=None,\n",
       "                                        colsample_bynode=None,\n",
       "                                        colsample_bytree=None,\n",
       "                                        early_stopping_rounds=None,\n",
       "                                        enable_categorical=False,\n",
       "                                        eval_metric=None, gamma=None,\n",
       "                                        gpu_id=None, grow_policy=None,\n",
       "                                        importance_type=None,\n",
       "                                        interaction_constraints=None,\n",
       "                                        learning_rate=None, max_bin=None,\n",
       "                                        max_cat_to_onehot=None,\n",
       "                                        max_delta_step=None, max_depth=None,\n",
       "                                        max_leaves=None, min_child_weight=None,\n",
       "                                        missing=nan, monotone_constraints=None,\n",
       "                                        n_estimators=100, n_jobs=None,\n",
       "                                        num_parallel_tree=None, predictor=None,\n",
       "                                        random_state=None, reg_alpha=None,\n",
       "                                        reg_lambda=None, ...))</pre></div></div></div><div class=\"sk-parallel\"><div class=\"sk-parallel-item\"><div class=\"sk-item\"><div class=\"sk-label-container\"><div class=\"sk-label sk-toggleable\"><input class=\"sk-toggleable__control sk-hidden--visually\" id=\"sk-estimator-id-351\" type=\"checkbox\" ><label for=\"sk-estimator-id-351\" class=\"sk-toggleable__label sk-toggleable__label-arrow\">estimator: XGBClassifier</label><div class=\"sk-toggleable__content\"><pre>XGBClassifier(base_score=None, booster=None, callbacks=None,\n",
       "              colsample_bylevel=None, colsample_bynode=None,\n",
       "              colsample_bytree=None, early_stopping_rounds=None,\n",
       "              enable_categorical=False, eval_metric=None, gamma=None,\n",
       "              gpu_id=None, grow_policy=None, importance_type=None,\n",
       "              interaction_constraints=None, learning_rate=None, max_bin=None,\n",
       "              max_cat_to_onehot=None, max_delta_step=None, max_depth=None,\n",
       "              max_leaves=None, min_child_weight=None, missing=nan,\n",
       "              monotone_constraints=None, n_estimators=100, n_jobs=None,\n",
       "              num_parallel_tree=None, predictor=None, random_state=None,\n",
       "              reg_alpha=None, reg_lambda=None, ...)</pre></div></div></div><div class=\"sk-serial\"><div class=\"sk-item\"><div class=\"sk-estimator sk-toggleable\"><input class=\"sk-toggleable__control sk-hidden--visually\" id=\"sk-estimator-id-352\" type=\"checkbox\" ><label for=\"sk-estimator-id-352\" class=\"sk-toggleable__label sk-toggleable__label-arrow\">XGBClassifier</label><div class=\"sk-toggleable__content\"><pre>XGBClassifier(base_score=None, booster=None, callbacks=None,\n",
       "              colsample_bylevel=None, colsample_bynode=None,\n",
       "              colsample_bytree=None, early_stopping_rounds=None,\n",
       "              enable_categorical=False, eval_metric=None, gamma=None,\n",
       "              gpu_id=None, grow_policy=None, importance_type=None,\n",
       "              interaction_constraints=None, learning_rate=None, max_bin=None,\n",
       "              max_cat_to_onehot=None, max_delta_step=None, max_depth=None,\n",
       "              max_leaves=None, min_child_weight=None, missing=nan,\n",
       "              monotone_constraints=None, n_estimators=100, n_jobs=None,\n",
       "              num_parallel_tree=None, predictor=None, random_state=None,\n",
       "              reg_alpha=None, reg_lambda=None, ...)</pre></div></div></div></div></div></div></div></div><div class=\"sk-item\"><div class=\"sk-estimator sk-toggleable\"><input class=\"sk-toggleable__control sk-hidden--visually\" id=\"sk-estimator-id-353\" type=\"checkbox\" ><label for=\"sk-estimator-id-353\" class=\"sk-toggleable__label sk-toggleable__label-arrow\">XGBClassifier</label><div class=\"sk-toggleable__content\"><pre>XGBClassifier(base_score=0.5, booster=&#x27;gbtree&#x27;, callbacks=None,\n",
       "              colsample_bylevel=1, colsample_bynode=1, colsample_bytree=1,\n",
       "              early_stopping_rounds=None, enable_categorical=False,\n",
       "              eval_metric=None, gamma=0, gpu_id=-1, grow_policy=&#x27;depthwise&#x27;,\n",
       "              importance_type=None, interaction_constraints=&#x27;&#x27;,\n",
       "              learning_rate=0.300000012, max_bin=256, max_cat_to_onehot=4,\n",
       "              max_delta_step=0, max_depth=4, max_leaves=0, min_child_weight=1,\n",
       "              missing=nan, monotone_constraints=&#x27;()&#x27;, n_estimators=380,\n",
       "              n_jobs=0, num_parallel_tree=1, predictor=&#x27;auto&#x27;, random_state=0,\n",
       "              reg_alpha=0, reg_lambda=1, ...)</pre></div></div></div></div></div></div></div>"
      ],
      "text/plain": [
       "Pipeline(steps=[('columntransformer',\n",
       "                 ColumnTransformer(remainder='passthrough',\n",
       "                                   transformers=[('ohe',\n",
       "                                                  OneHotEncoder(drop='first',\n",
       "                                                                sparse=False),\n",
       "                                                  ['Recruitment Channel',\n",
       "                                                   'Gender',\n",
       "                                                   'NO_Trainings_LstYear',\n",
       "                                                   'Awards']),\n",
       "                                                 ('be', BinaryEncoder(),\n",
       "                                                  ['Department',\n",
       "                                                   'Region_Employment'])])),\n",
       "                ('robustscaler', RobustScaler()),\n",
       "                ('selectfrommodel',\n",
       "                 SelectFromModel(estimator=XGBCla...\n",
       "                               gamma=0, gpu_id=-1, grow_policy='depthwise',\n",
       "                               importance_type=None, interaction_constraints='',\n",
       "                               learning_rate=0.300000012, max_bin=256,\n",
       "                               max_cat_to_onehot=4, max_delta_step=0,\n",
       "                               max_depth=4, max_leaves=0, min_child_weight=1,\n",
       "                               missing=nan, monotone_constraints='()',\n",
       "                               n_estimators=380, n_jobs=0, num_parallel_tree=1,\n",
       "                               predictor='auto', random_state=0, reg_alpha=0,\n",
       "                               reg_lambda=1, ...))])"
      ]
     },
     "execution_count": 257,
     "metadata": {},
     "output_type": "execute_result"
    }
   ],
   "source": [
    "XGB_RanGrid.best_estimator_"
   ]
  },
  {
   "cell_type": "code",
   "execution_count": 258,
   "id": "364160fc",
   "metadata": {},
   "outputs": [
    {
     "data": {
      "text/plain": [
       "{'xgbclassifier__n_estimators': 380, 'xgbclassifier__max_depth': 4}"
      ]
     },
     "execution_count": 258,
     "metadata": {},
     "output_type": "execute_result"
    }
   ],
   "source": [
    "XGB_RanGrid.best_params_"
   ]
  },
  {
   "cell_type": "code",
   "execution_count": 259,
   "id": "26122d14",
   "metadata": {},
   "outputs": [
    {
     "data": {
      "text/plain": [
       "0.7060687945595384"
      ]
     },
     "execution_count": 259,
     "metadata": {},
     "output_type": "execute_result"
    }
   ],
   "source": [
    "XGB_RanGrid.best_score_"
   ]
  },
  {
   "cell_type": "code",
   "execution_count": 260,
   "id": "4afb4a99",
   "metadata": {},
   "outputs": [
    {
     "data": {
      "text/plain": [
       "array([0.75216954, 0.75238384, 0.75575929, 0.7549288 , 0.75042818,\n",
       "       0.7567237 , 0.75632187, 0.74852612, 0.75190165, 0.74635618])"
      ]
     },
     "execution_count": 260,
     "metadata": {},
     "output_type": "execute_result"
    }
   ],
   "source": [
    "XGB_RanGrid.cv_results_['mean_train_score']"
   ]
  },
  {
   "cell_type": "code",
   "execution_count": 261,
   "id": "b7566f63",
   "metadata": {},
   "outputs": [
    {
     "data": {
      "text/plain": [
       "array([0.70103226, 0.69985401, 0.69653208, 0.69846048, 0.70253274,\n",
       "       0.69546045, 0.69696035, 0.70446108, 0.70103203, 0.70606879])"
      ]
     },
     "execution_count": 261,
     "metadata": {},
     "output_type": "execute_result"
    }
   ],
   "source": [
    "XGB_RanGrid.cv_results_['mean_test_score']"
   ]
  },
  {
   "cell_type": "code",
   "execution_count": 262,
   "id": "6ea2237a",
   "metadata": {},
   "outputs": [
    {
     "data": {
      "text/plain": [
       "<sklearn.metrics._plot.confusion_matrix.ConfusionMatrixDisplay at 0x2a643b361d0>"
      ]
     },
     "execution_count": 262,
     "metadata": {},
     "output_type": "execute_result"
    },
    {
     "data": {
      "image/png": "[encoded data removed]",
      "text/plain": [
       "<Figure size 720x288 with 2 Axes>"
      ]
     },
     "metadata": {},
     "output_type": "display_data"
    }
   ],
   "source": [
    "plot_confusion_matrix(XGB_RanGrid.best_estimator_ , x , y)"
   ]
  },
  {
   "cell_type": "code",
   "execution_count": 263,
   "id": "e1369233",
   "metadata": {},
   "outputs": [
    {
     "data": {
      "text/plain": [
       "0.8131450298750679"
      ]
     },
     "execution_count": 263,
     "metadata": {},
     "output_type": "execute_result"
    }
   ],
   "source": [
    "recall_score(XGB_RanGrid.best_estimator_.predict(x) , y)"
   ]
  },
  {
   "cell_type": "code",
   "execution_count": 264,
   "id": "c0cf38b4",
   "metadata": {},
   "outputs": [
    {
     "data": {
      "text/plain": [
       "0.6416630947278182"
      ]
     },
     "execution_count": 264,
     "metadata": {},
     "output_type": "execute_result"
    }
   ],
   "source": [
    "precision_score(XGB_RanGrid.best_estimator_.predict(x) , y)"
   ]
  },
  {
   "cell_type": "code",
   "execution_count": 265,
   "id": "61b0c058",
   "metadata": {},
   "outputs": [
    {
     "data": {
      "text/plain": [
       "0.7172975563009103"
      ]
     },
     "execution_count": 265,
     "metadata": {},
     "output_type": "execute_result"
    }
   ],
   "source": [
    "f1_score(XGB_RanGrid.best_estimator_.predict(x) , y)"
   ]
  },
  {
   "cell_type": "code",
   "execution_count": 266,
   "id": "41d804aa",
   "metadata": {},
   "outputs": [
    {
     "data": {
      "text/plain": [
       "['XGB.h5']"
      ]
     },
     "execution_count": 266,
     "metadata": {},
     "output_type": "execute_result"
    }
   ],
   "source": [
    "joblib.dump(XGB_RanGrid.best_estimator_ , 'XGB.h5')"
   ]
  },
  {
   "cell_type": "code",
   "execution_count": null,
   "id": "af359259",
   "metadata": {},
   "outputs": [],
   "source": []
  }
 ],
 "metadata": {
  "kernelspec": {
   "display_name": "Python 3 (ipykernel)",
   "language": "python",
   "name": "python3"
  },
  "language_info": {
   "codemirror_mode": {
    "name": "ipython",
    "version": 3
   },
   "file_extension": ".py",
   "mimetype": "text/x-python",
   "name": "python",
   "nbconvert_exporter": "python",
   "pygments_lexer": "ipython3",
   "version": "3.10.4"
  }
 },
 "nbformat": 4,
 "nbformat_minor": 5
}
